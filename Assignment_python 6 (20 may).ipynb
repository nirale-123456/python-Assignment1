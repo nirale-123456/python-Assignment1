{
 "cells": [
  {
   "cell_type": "markdown",
   "id": "10ad7e85",
   "metadata": {},
   "source": [
    "### Q.1. What are keywords in python? Using the keyword library, print all the python keywords.\n",
    "\n",
    "Answer : keywords in python are the special reserved words thet have specific meanings and purpose. It is used to define the\n",
    "    \n",
    "syntax of the coding.\n",
    "\n",
    "To print all the keywords in python, first we have to import keyword module and then use \"keyword.kwlist\"."
   ]
  },
  {
   "cell_type": "code",
   "execution_count": 6,
   "id": "ec9d201b",
   "metadata": {},
   "outputs": [
    {
     "data": {
      "text/plain": [
       "['False',\n",
       " 'None',\n",
       " 'True',\n",
       " '__peg_parser__',\n",
       " 'and',\n",
       " 'as',\n",
       " 'assert',\n",
       " 'async',\n",
       " 'await',\n",
       " 'break',\n",
       " 'class',\n",
       " 'continue',\n",
       " 'def',\n",
       " 'del',\n",
       " 'elif',\n",
       " 'else',\n",
       " 'except',\n",
       " 'finally',\n",
       " 'for',\n",
       " 'from',\n",
       " 'global',\n",
       " 'if',\n",
       " 'import',\n",
       " 'in',\n",
       " 'is',\n",
       " 'lambda',\n",
       " 'nonlocal',\n",
       " 'not',\n",
       " 'or',\n",
       " 'pass',\n",
       " 'raise',\n",
       " 'return',\n",
       " 'try',\n",
       " 'while',\n",
       " 'with',\n",
       " 'yield']"
      ]
     },
     "execution_count": 6,
     "metadata": {},
     "output_type": "execute_result"
    }
   ],
   "source": [
    "import keyword\n",
    "keyword.kwlist"
   ]
  },
  {
   "cell_type": "markdown",
   "id": "47872633",
   "metadata": {},
   "source": [
    "### Q.2. What are the rules to create variables in python?\n",
    "\n",
    "Answer : Rules for to create a variables :\n",
    "        \n",
    "        1) A variable must start with a letter or underscore character.\n",
    "        \n",
    "        2) A variable name cannot be start with number.\n",
    "        \n",
    "        3) Variable names are case sensitive.(Name, name, NAME are three different variables).\n",
    "        \n",
    "        4) A variable name can only contains alphanumeric character and underscore(_2var)"
   ]
  },
  {
   "cell_type": "code",
   "execution_count": 7,
   "id": "46fcea50",
   "metadata": {},
   "outputs": [
    {
     "name": "stdout",
     "output_type": "stream",
     "text": [
      "neha\n"
     ]
    }
   ],
   "source": [
    "name=\"neha\"\n",
    "print(name)"
   ]
  },
  {
   "cell_type": "code",
   "execution_count": 8,
   "id": "3eaa2c7c",
   "metadata": {
    "scrolled": true
   },
   "outputs": [
    {
     "name": "stdout",
     "output_type": "stream",
     "text": [
      "neha\n"
     ]
    }
   ],
   "source": [
    "Name=\"neha\"\n",
    "print(Name)"
   ]
  },
  {
   "cell_type": "code",
   "execution_count": 9,
   "id": "d29e170f",
   "metadata": {},
   "outputs": [
    {
     "name": "stdout",
     "output_type": "stream",
     "text": [
      "neha\n"
     ]
    }
   ],
   "source": [
    "NAME=\"neha\"\n",
    "print(NAME)"
   ]
  },
  {
   "cell_type": "code",
   "execution_count": 10,
   "id": "7fe6ea23",
   "metadata": {},
   "outputs": [
    {
     "name": "stdout",
     "output_type": "stream",
     "text": [
      "neha\n"
     ]
    }
   ],
   "source": [
    "_NAME=\"neha\"\n",
    "print(NAME)"
   ]
  },
  {
   "cell_type": "code",
   "execution_count": 11,
   "id": "3e2be3fa",
   "metadata": {},
   "outputs": [
    {
     "name": "stdout",
     "output_type": "stream",
     "text": [
      "neha\n"
     ]
    }
   ],
   "source": [
    "_6NAME=\"neha\"\n",
    "print(NAME)"
   ]
  },
  {
   "cell_type": "markdown",
   "id": "bac9703e",
   "metadata": {},
   "source": [
    "### Q.3. What are the standards and conventions followed for the nomenclature of variables in\n",
    "python to improve code readability and maintainability?\n",
    "\n",
    "Answer : 1) Variable should be gramatically correct.\n",
    "    \n",
    "2) A variable name must start with a letter or the underscore character.\n",
    "\n",
    "3) A variable name cannot start with a number. \n",
    "\n",
    "Example :"
   ]
  },
  {
   "cell_type": "code",
   "execution_count": 7,
   "id": "0256188e",
   "metadata": {},
   "outputs": [
    {
     "name": "stdout",
     "output_type": "stream",
     "text": [
      "12\n"
     ]
    }
   ],
   "source": [
    "age=12\n",
    "print(age)"
   ]
  },
  {
   "cell_type": "code",
   "execution_count": 8,
   "id": "a2bcee01",
   "metadata": {
    "scrolled": true
   },
   "outputs": [
    {
     "ename": "SyntaxError",
     "evalue": "invalid syntax (1453426329.py, line 1)",
     "output_type": "error",
     "traceback": [
      "\u001b[1;36m  File \u001b[1;32m\"C:\\Users\\dell\\AppData\\Local\\Temp\\ipykernel_2884\\1453426329.py\"\u001b[1;36m, line \u001b[1;32m1\u001b[0m\n\u001b[1;33m    3age=12\u001b[0m\n\u001b[1;37m     ^\u001b[0m\n\u001b[1;31mSyntaxError\u001b[0m\u001b[1;31m:\u001b[0m invalid syntax\n"
     ]
    }
   ],
   "source": [
    "3age=12     # cannot start with number\n",
    "print(age)"
   ]
  },
  {
   "cell_type": "code",
   "execution_count": 9,
   "id": "b1e472f7",
   "metadata": {},
   "outputs": [
    {
     "name": "stdout",
     "output_type": "stream",
     "text": [
      "12\n"
     ]
    }
   ],
   "source": [
    "_4age=12\n",
    "print(age)"
   ]
  },
  {
   "cell_type": "markdown",
   "id": "eeb00822",
   "metadata": {},
   "source": [
    "### Q.4. What will happen if a keyword is used as a variable name?\n",
    "\n",
    "Answer : If a keyword is used as a variable name it gives syntax error(cannot assign to True). keyword cannot be used as a \n",
    "    \n",
    "variable name. "
   ]
  },
  {
   "cell_type": "code",
   "execution_count": 12,
   "id": "5f979ad3",
   "metadata": {},
   "outputs": [
    {
     "ename": "SyntaxError",
     "evalue": "cannot assign to True (554317327.py, line 1)",
     "output_type": "error",
     "traceback": [
      "\u001b[1;36m  File \u001b[1;32m\"C:\\Users\\dell\\AppData\\Local\\Temp\\ipykernel_8188\\554317327.py\"\u001b[1;36m, line \u001b[1;32m1\u001b[0m\n\u001b[1;33m    True=\"Data science is the best field\"\u001b[0m\n\u001b[1;37m    ^\u001b[0m\n\u001b[1;31mSyntaxError\u001b[0m\u001b[1;31m:\u001b[0m cannot assign to True\n"
     ]
    }
   ],
   "source": [
    "True=\"Data science is the best field\"\n",
    "print(True)"
   ]
  },
  {
   "cell_type": "markdown",
   "id": "762a431d",
   "metadata": {},
   "source": [
    "### Q.5. For what purpose def keyword is used?\n",
    "\n",
    "Answer : def keyword is used to create or define a function, it is placed before the a function name that is provided by the\n",
    "    \n",
    "user to create a user-defined fuction."
   ]
  },
  {
   "cell_type": "code",
   "execution_count": 2,
   "id": "91dda4cc",
   "metadata": {},
   "outputs": [
    {
     "name": "stdout",
     "output_type": "stream",
     "text": [
      "good morning\n"
     ]
    }
   ],
   "source": [
    "def my_function():\n",
    "    print(\"good morning\")\n",
    "my_function()"
   ]
  },
  {
   "cell_type": "markdown",
   "id": "f5d1460e",
   "metadata": {},
   "source": [
    "### Q.6. What is the operation of this special character ‘\\’?\n",
    "\n",
    "Answer: The special character '' (backslash) is used in python, for escape Sequences in Strings, Escaping Special Characters."
   ]
  },
  {
   "cell_type": "markdown",
   "id": "6149c451",
   "metadata": {},
   "source": [
    "### Q.7. Give an example of the following conditions:\n",
    "(i) Homogeneous list\n",
    "(ii) Heterogeneous set\n",
    "(iii) Homogeneous tuple\n",
    "\n",
    "Answer : Homogeneous means that it only contains a single type of date.\n",
    "    \n",
    "Heterogeneous set can be store differnt types of datatype or set contains more than one datatype.\n",
    "\n",
    "Homogeneous tuple : Tuples are used to store multiple items in single variable.  "
   ]
  },
  {
   "cell_type": "code",
   "execution_count": 14,
   "id": "fcdd90f5",
   "metadata": {},
   "outputs": [
    {
     "data": {
      "text/plain": [
       "set"
      ]
     },
     "execution_count": 14,
     "metadata": {},
     "output_type": "execute_result"
    }
   ],
   "source": [
    "var={\"diya\", \"aisha\"}  ###Homogeneous set\n",
    "type(var)"
   ]
  },
  {
   "cell_type": "code",
   "execution_count": 13,
   "id": "7136ef29",
   "metadata": {
    "scrolled": true
   },
   "outputs": [
    {
     "data": {
      "text/plain": [
       "set"
      ]
     },
     "execution_count": 13,
     "metadata": {},
     "output_type": "execute_result"
    }
   ],
   "source": [
    "var={\"diya\", 3, 3.22}    ###Heterogeneous set\n",
    "type(var)"
   ]
  },
  {
   "cell_type": "code",
   "execution_count": 16,
   "id": "15acd076",
   "metadata": {},
   "outputs": [
    {
     "data": {
      "text/plain": [
       "tuple"
      ]
     },
     "execution_count": 16,
     "metadata": {},
     "output_type": "execute_result"
    }
   ],
   "source": [
    "var=(\"diya\", \"aisha\")    ###Homogeneous tuple\n",
    "type(var)"
   ]
  },
  {
   "cell_type": "markdown",
   "id": "353850d5",
   "metadata": {},
   "source": [
    "### Q.8. Explain the mutable and immutable data types with proper explanation & examples.\n",
    "\n",
    "Answer : An object is said to be mutable if its value can be modified after it is created. Example : lists, dictionary\n",
    "        \n",
    "and sets.\n",
    "\n",
    "An object is said to be immutable if its value can not be modified after it is created. Example : lists, dictionary\n",
    "        \n",
    "and sets. Example : int, str, bool, float, tuple.\n",
    "\n"
   ]
  },
  {
   "cell_type": "code",
   "execution_count": 6,
   "id": "c854c508",
   "metadata": {},
   "outputs": [
    {
     "name": "stdout",
     "output_type": "stream",
     "text": [
      "[0, 4, 2, 3]\n"
     ]
    }
   ],
   "source": [
    "list = [0, 1, 2, 3]      ### mutable-can be  modified\n",
    "list[1] = 4\n",
    "print(list)"
   ]
  },
  {
   "cell_type": "code",
   "execution_count": 3,
   "id": "cf693f42",
   "metadata": {},
   "outputs": [
    {
     "ename": "TypeError",
     "evalue": "'tuple' object does not support item assignment",
     "output_type": "error",
     "traceback": [
      "\u001b[1;31m---------------------------------------------------------------------------\u001b[0m",
      "\u001b[1;31mTypeError\u001b[0m                                 Traceback (most recent call last)",
      "\u001b[1;32m~\\AppData\\Local\\Temp\\ipykernel_2884\\2554674012.py\u001b[0m in \u001b[0;36m<module>\u001b[1;34m\u001b[0m\n\u001b[0;32m      1\u001b[0m \u001b[0mtuple1\u001b[0m \u001b[1;33m=\u001b[0m \u001b[1;33m(\u001b[0m\u001b[1;36m0\u001b[0m\u001b[1;33m,\u001b[0m \u001b[1;36m1\u001b[0m\u001b[1;33m,\u001b[0m \u001b[1;36m2\u001b[0m\u001b[1;33m,\u001b[0m \u001b[1;36m3\u001b[0m\u001b[1;33m)\u001b[0m\u001b[1;33m\u001b[0m\u001b[1;33m\u001b[0m\u001b[0m\n\u001b[1;32m----> 2\u001b[1;33m \u001b[0mtuple1\u001b[0m\u001b[1;33m[\u001b[0m\u001b[1;36m1\u001b[0m\u001b[1;33m]\u001b[0m \u001b[1;33m=\u001b[0m \u001b[1;36m4\u001b[0m\u001b[1;33m\u001b[0m\u001b[1;33m\u001b[0m\u001b[0m\n\u001b[0m\u001b[0;32m      3\u001b[0m \u001b[0mprint\u001b[0m\u001b[1;33m(\u001b[0m\u001b[0mtuple1\u001b[0m\u001b[1;33m)\u001b[0m\u001b[1;33m\u001b[0m\u001b[1;33m\u001b[0m\u001b[0m\n",
      "\u001b[1;31mTypeError\u001b[0m: 'tuple' object does not support item assignment"
     ]
    }
   ],
   "source": [
    "tuple1 = (0, 1, 2, 3)    ### immuatable-cannot be modified\n",
    "tuple1[1] = 4\n",
    "print(tuple1)"
   ]
  },
  {
   "cell_type": "markdown",
   "id": "7979aa57",
   "metadata": {},
   "source": [
    "### Q.9. Write a code to create the given structure using only for loop.\n",
    "*\n",
    "***\n",
    "*****\n",
    "*******\n",
    "*********"
   ]
  },
  {
   "cell_type": "code",
   "execution_count": 22,
   "id": "31ab6336",
   "metadata": {},
   "outputs": [
    {
     "name": "stdout",
     "output_type": "stream",
     "text": [
      "\n",
      "*\n",
      "***\n",
      "*****\n",
      "*******\n",
      "*********\n"
     ]
    }
   ],
   "source": [
    "rows = 5\n",
    "\n",
    "for i in range(rows+1):\n",
    "    print(\"*\" * (2*i - 1))"
   ]
  },
  {
   "cell_type": "markdown",
   "id": "a7e5a48f",
   "metadata": {},
   "source": [
    "### Q.10. Write a code to create the given structure using while loop.\n",
    "\n",
    "|||||||||\n",
    "|||||||\n",
    "|||||\n",
    "|||"
   ]
  },
  {
   "cell_type": "code",
   "execution_count": 1,
   "id": "32820b0f",
   "metadata": {},
   "outputs": [
    {
     "name": "stdout",
     "output_type": "stream",
     "text": [
      "|||||||||\n",
      "|||||||\n",
      "|||||\n",
      "|||\n",
      "|\n"
     ]
    }
   ],
   "source": [
    "n = 9\n",
    "while n > 0:\n",
    "    print(\"|\" * n)\n",
    "    n -= 2"
   ]
  }
 ],
 "metadata": {
  "kernelspec": {
   "display_name": "Python 3 (ipykernel)",
   "language": "python",
   "name": "python3"
  },
  "language_info": {
   "codemirror_mode": {
    "name": "ipython",
    "version": 3
   },
   "file_extension": ".py",
   "mimetype": "text/x-python",
   "name": "python",
   "nbconvert_exporter": "python",
   "pygments_lexer": "ipython3",
   "version": "3.9.13"
  }
 },
 "nbformat": 4,
 "nbformat_minor": 5
}
