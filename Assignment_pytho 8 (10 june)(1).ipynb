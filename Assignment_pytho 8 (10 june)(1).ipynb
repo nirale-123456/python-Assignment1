{
 "cells": [
  {
   "cell_type": "markdown",
   "id": "0b50d3e2",
   "metadata": {},
   "source": [
    "### 1. In Python, what is the difference between a built-in function and a user-defined function? Provide an example of each.\n",
    "\n",
    "Answer : The built-in function are predefined function that can be access by user but cannot cannot be modified by user.\n",
    "\n",
    "Example : printf(), scanf(), getch(), clrscr(), min().\n",
    "    \n",
    "The user defined functions are defined by user and can be modified by user. Example :"
   ]
  },
  {
   "cell_type": "code",
   "execution_count": 12,
   "id": "be56a89b",
   "metadata": {},
   "outputs": [
    {
     "data": {
      "text/plain": [
       "2"
      ]
     },
     "execution_count": 12,
     "metadata": {},
     "output_type": "execute_result"
    }
   ],
   "source": [
    "a=[5,6,9,3,4,5,2]                      # Here min is built-in function\n",
    "min(a)"
   ]
  },
  {
   "cell_type": "code",
   "execution_count": 1,
   "id": "07ed9369",
   "metadata": {},
   "outputs": [
    {
     "name": "stdout",
     "output_type": "stream",
     "text": [
      "Enter roll number\n"
     ]
    }
   ],
   "source": [
    "def roll_no():                         # Here roll_no is user defined function\n",
    "    print(\"Enter roll number\")\n",
    "roll_no()"
   ]
  },
  {
   "cell_type": "markdown",
   "id": "243e0126",
   "metadata": {},
   "source": [
    "### 2. How can you pass arguments to a function in Python? Explain the difference between positional arguments and keyword arguments.\n",
    "\n",
    "Answer : Arguments are specified after the funtion name, inside the parentheses."
   ]
  },
  {
   "cell_type": "code",
   "execution_count": 4,
   "id": "19ab60ee",
   "metadata": {},
   "outputs": [
    {
     "data": {
      "text/plain": [
       "13"
      ]
     },
     "execution_count": 4,
     "metadata": {},
     "output_type": "execute_result"
    }
   ],
   "source": [
    "def my_sum(a,b):  #my_sum is function name\n",
    "    \n",
    "    return a+b\n",
    "\n",
    "my_sum(5,8)..........}# function call5 and 8 are arguments \n",
    "\n",
    "# arguments are passed during function call"
   ]
  },
  {
   "cell_type": "markdown",
   "id": "79d9e124",
   "metadata": {},
   "source": [
    "An argument is a variable, value or object passed to a function or method as input. Positional arguments are \n",
    "    \n",
    "arguments that need to be included in the proper position or order. The first positional argument always needs to be listed \n",
    "\n",
    "first whenthe function is called. Positional arguments have commas between their values. The syntax is given by,\n",
    "\n",
    "FunctionName(value1, value2,.....)\n",
    "\n",
    "\n",
    "    \n",
    "Keyword arguments are values that when passed into a function, are identifiable by specific parameter names. A keyword\n",
    "    \n",
    "argument is preceded by a parameter and the assignment operator, =. The keyword arguments have a name and an equals sign in \n",
    "\n",
    "addition to those values and commas. The syntax is given by,\n",
    "\n",
    "FunctionName(parameterName=value,.....)"
   ]
  },
  {
   "cell_type": "code",
   "execution_count": 15,
   "id": "665382a4",
   "metadata": {},
   "outputs": [
    {
     "name": "stdout",
     "output_type": "stream",
     "text": [
      "1 2 3\n"
     ]
    }
   ],
   "source": [
    "def my_fun(a,b,c):                                            # Positional arguments\n",
    "    print(a,b,c)\n",
    "my_fun(1,2,3)\n"
   ]
  },
  {
   "cell_type": "code",
   "execution_count": 14,
   "id": "605c95e3",
   "metadata": {},
   "outputs": [
    {
     "name": "stdout",
     "output_type": "stream",
     "text": [
      "My favourite fruit is mango\n"
     ]
    }
   ],
   "source": [
    "def my_fun(fruit1,fruit2,fruit3):                             # keyword arguments\n",
    "    print(\"My favourite fruit is \" + fruit2 )\n",
    "my_fun(fruit1=\"grapes\",fruit2=\"mango\",fruit3=\"orange\")"
   ]
  },
  {
   "cell_type": "markdown",
   "id": "d8ba64d3",
   "metadata": {},
   "source": [
    "### 3. What is the purpose of the return statement in a function? Can a function have multiple return statements? Explain with an example.\n",
    "\n",
    "Answer: A return statement is used to end the execution of the function call and \"return\" the result to the caller. The \n",
    "\n",
    "statements after the return statements are not executed. \n",
    "\n",
    "A function can have multiple return statement. When any of them is executed, the function terminates.\n"
   ]
  },
  {
   "cell_type": "code",
   "execution_count": 1,
   "id": "f66d723f",
   "metadata": {},
   "outputs": [],
   "source": [
    "def check_number (n):\n",
    "    if n==0:\n",
    "        return \"Zer0\"\n",
    "    elif n> 0:\n",
    "        return \"Positive\"\n",
    "    else:\n",
    "        return \"Negative\""
   ]
  },
  {
   "cell_type": "code",
   "execution_count": 4,
   "id": "987bdaf7",
   "metadata": {},
   "outputs": [
    {
     "data": {
      "text/plain": [
       "'Negative'"
      ]
     },
     "execution_count": 4,
     "metadata": {},
     "output_type": "execute_result"
    }
   ],
   "source": [
    "check_number(-4)"
   ]
  },
  {
   "cell_type": "markdown",
   "id": "7da3f052",
   "metadata": {},
   "source": [
    "### 4. What are lambda functions in Python? How are they different from regular functions? Provide an example where a lambda function can be useful.\n",
    "\n",
    "Answer : A lambda function is a small anoynous function. A lambda function can take a number of arguments, but can only have\n",
    "    \n",
    "one expression. Lambda function can be used wherever function objects are necessary. The syntax is given by,\n",
    "\n",
    "lambda arguments : expression\n",
    "\n",
    "Lambda function and regular can take any number of arguments but  lambda function evaluates and returns only one \n",
    "\n",
    "expression.\n",
    "\n",
    "Also use when if we want to use the function once."
   ]
  },
  {
   "cell_type": "code",
   "execution_count": 13,
   "id": "5ce9b6b5",
   "metadata": {},
   "outputs": [],
   "source": [
    "def multiplication(a,b,c):\n",
    "    return a*b*c"
   ]
  },
  {
   "cell_type": "code",
   "execution_count": 14,
   "id": "8d169218",
   "metadata": {},
   "outputs": [
    {
     "data": {
      "text/plain": [
       "48"
      ]
     },
     "execution_count": 14,
     "metadata": {},
     "output_type": "execute_result"
    }
   ],
   "source": [
    "multiplication(2,4,6)"
   ]
  },
  {
   "cell_type": "code",
   "execution_count": 17,
   "id": "92e82b3c",
   "metadata": {},
   "outputs": [],
   "source": [
    "multiplication=lambda a,b,c:a*b*c      # lambda function is used when there only one expression"
   ]
  },
  {
   "cell_type": "code",
   "execution_count": 16,
   "id": "2c4a3163",
   "metadata": {},
   "outputs": [
    {
     "data": {
      "text/plain": [
       "48"
      ]
     },
     "execution_count": 16,
     "metadata": {},
     "output_type": "execute_result"
    }
   ],
   "source": [
    "multiplication(2,4,6)"
   ]
  },
  {
   "cell_type": "markdown",
   "id": "88802840",
   "metadata": {},
   "source": [
    "### 5. How does the concept of \"scope\" apply to functions in Python? Explain the difference between local scope and global scope.\n",
    "\n",
    "Answer : The concept of \"scope\" in Python refers to the region in which a variable or name is accessible. It determines where\n",
    "\n",
    "variables are defined, how they can be accessed, and whether they are visible to different parts of the code.Their are\n",
    "\n",
    "different types of scopes in python.\n",
    "\n",
    "Local variables are those which are defined inside a function and their scope is limited to that function only. \n",
    "    \n",
    "Global variables are those which are not defined inside any function and have a global scope."
   ]
  },
  {
   "cell_type": "code",
   "execution_count": 9,
   "id": "a0471182",
   "metadata": {},
   "outputs": [
    {
     "name": "stdout",
     "output_type": "stream",
     "text": [
      "Good evening\n"
     ]
    }
   ],
   "source": [
    "def f():                                  # local variable\n",
    "    x=\"Good evening\"\n",
    "    print(x)\n",
    "f()"
   ]
  },
  {
   "cell_type": "code",
   "execution_count": 6,
   "id": "7d0bd043",
   "metadata": {},
   "outputs": [
    {
     "name": "stdout",
     "output_type": "stream",
     "text": [
      "Inside function Good evening\n",
      "Outside function Good evening\n"
     ]
    }
   ],
   "source": [
    "def f():                                  # global variable\n",
    "    print(\"Inside function\", x)\n",
    "x=\"Good evening\"\n",
    "f()\n",
    "print(\"Outside function\", x)"
   ]
  },
  {
   "cell_type": "markdown",
   "id": "355ddfca",
   "metadata": {},
   "source": [
    "### 6. How can you use the \"return\" statement in a Python function to return multiple values?\n",
    "\n",
    "Answer : We can use a return statement to return multiple values from a function. For this we just need to supply several \n",
    "\n",
    "retur values separated by commas."
   ]
  },
  {
   "cell_type": "code",
   "execution_count": 9,
   "id": "d1ac44a0",
   "metadata": {},
   "outputs": [
    {
     "data": {
      "text/plain": [
       "(63, 0.7777777777777778, 16, -2)"
      ]
     },
     "execution_count": 9,
     "metadata": {},
     "output_type": "execute_result"
    }
   ],
   "source": [
    "def math (a, b):\n",
    "    return a*b, a/b, a+b, a-b, \n",
    "math(7,9)"
   ]
  },
  {
   "cell_type": "markdown",
   "id": "328b2312",
   "metadata": {},
   "source": [
    "### 7. What is the difference between the \"pass by value\" and \"pass by reference\" concepts when it comes to function arguments in Python?\n",
    "\n",
    "Answer : 1) In a pass by value, the parameter value copies to anther variable. In a pass by reference, the actual parameter \n",
    "\n",
    "passes to the function.\n",
    "\n",
    "2) When we pass function arguments by referece, we are just passing referenes to values that already exist. When we pass \n",
    "\n",
    "arguments by value, the arguments become indepemdent copies of thee original values.\n",
    "\n",
    "3) When we pass an argument by value, we pass a copy of the value in memory whereasWhen we pass an argument by reference we \n",
    "\n",
    "pass a pointer to the value in memory. "
   ]
  },
  {
   "cell_type": "markdown",
   "id": "da24d724",
   "metadata": {},
   "source": [
    "### 8. Create a function that can intake integer or decimal value and do following operations:\n",
    "a. Logarithmic function (log x)\n",
    "b. Exponential function (exp(x))\n",
    "c. Power function with base 2 (2^x)\n",
    "d. Square root"
   ]
  },
  {
   "cell_type": "code",
   "execution_count": 18,
   "id": "ce6ace05",
   "metadata": {},
   "outputs": [
    {
     "name": "stdout",
     "output_type": "stream",
     "text": [
      "1.3862943611198906\n",
      "54.598150033144236\n",
      "8.0\n",
      "3.0\n"
     ]
    }
   ],
   "source": [
    "import math\n",
    "def math_operation():\n",
    "    print(math.log(4))\n",
    "\n",
    "    print(math.exp(4))\n",
    "\n",
    "    print(math.pow(2,3))   #2 is value and 3 is power\n",
    "\n",
    "    print(math.sqrt(9))\n",
    "math_operation()"
   ]
  },
  {
   "cell_type": "markdown",
   "id": "5ceb552d",
   "metadata": {},
   "source": [
    "### 9. Create a function that takes a full name as an argument and returns first name and last name"
   ]
  },
  {
   "cell_type": "code",
   "execution_count": 28,
   "id": "5b24c8a5",
   "metadata": {},
   "outputs": [
    {
     "name": "stdout",
     "output_type": "stream",
     "text": [
      "First Name: Shriya\n",
      "Last Name: Gore\n"
     ]
    }
   ],
   "source": [
    "def split_name(full_name):\n",
    "    \n",
    "    name_list = full_name.split()\n",
    "    \n",
    "    first_name = name_list[0]\n",
    "    \n",
    "    last_name = name_list[-1]\n",
    "    \n",
    "    return (first_name, last_name)\n",
    "    \n",
    "full_name=(\"Shriya Gore\")\n",
    "    \n",
    "first, last = split_name(full_name)\n",
    "\n",
    "print(\"First Name:\", first)\n",
    "print(\"Last Name:\", last)\n"
   ]
  }
 ],
 "metadata": {
  "kernelspec": {
   "display_name": "Python 3 (ipykernel)",
   "language": "python",
   "name": "python3"
  },
  "language_info": {
   "codemirror_mode": {
    "name": "ipython",
    "version": 3
   },
   "file_extension": ".py",
   "mimetype": "text/x-python",
   "name": "python",
   "nbconvert_exporter": "python",
   "pygments_lexer": "ipython3",
   "version": "3.9.13"
  }
 },
 "nbformat": 4,
 "nbformat_minor": 5
}
