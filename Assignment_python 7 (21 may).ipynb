{
 "cells": [
  {
   "cell_type": "markdown",
   "id": "3191b94a",
   "metadata": {},
   "source": [
    "### Q.1. Create two int type variables, apply addition, subtraction, division and multiplications\n",
    "and store the results in variables. Then print the data in the following format by calling the\n",
    "variables:\n",
    "First variable is __ & second variable is __.\n",
    "Addition: __ + __ = __\n",
    "Subtraction: __ - __ = __\n",
    "Multiplication: __ * __ = __\n",
    "Division: __ / __ = __\n",
    "    "
   ]
  },
  {
   "cell_type": "code",
   "execution_count": 8,
   "id": "facd2909",
   "metadata": {},
   "outputs": [
    {
     "name": "stdout",
     "output_type": "stream",
     "text": [
      "First variable is 4 & second variable is 7.\n",
      "Addition: 4 + 7 = 11\n",
      "Subtraction: 4 - 7 = -3\n",
      "Multiplication: 4 * 7 = 28\n",
      "Division: 4 / 7 = 0.5714285714285714\n"
     ]
    }
   ],
   "source": [
    "a=4\n",
    "b=7\n",
    "add=a+b\n",
    "sub=a-b\n",
    "mul=a*b\n",
    "div=a/b\n",
    "\n",
    "print(f\"First variable is {a} & second variable is {b}.\")\n",
    "print(f\"Addition: {a} + {b} = {add}\")\n",
    "print(f\"Subtraction: {a} - {b} = {sub}\")\n",
    "print(f\"Multiplication: {a} * {b} = {mul}\")\n",
    "print(f\"Division: {a} / {b} = {div}\")"
   ]
  },
  {
   "cell_type": "markdown",
   "id": "23b40aa0",
   "metadata": {},
   "source": [
    "### Q.2. What is the difference between the following operators:\n",
    "\n",
    "(i) ‘/’ & ‘//’\n",
    "(ii) ‘**’ & ‘^’\n",
    "\n",
    "Answer : i) '/' is called as float division and '//' is called integer division or floor division. Float division gives\n",
    "    \n",
    "floating point result. Integer division gives the result that is rounded down to the nerest integer.\n",
    " \n",
    "Example : "
   ]
  },
  {
   "cell_type": "code",
   "execution_count": 1,
   "id": "55d85936",
   "metadata": {},
   "outputs": [
    {
     "name": "stdout",
     "output_type": "stream",
     "text": [
      "0.5\n"
     ]
    }
   ],
   "source": [
    "a=3               ##Float division gives result in decimal.\n",
    "b=6\n",
    "c=a/b\n",
    "print(c)"
   ]
  },
  {
   "cell_type": "code",
   "execution_count": 3,
   "id": "e7b2d799",
   "metadata": {},
   "outputs": [
    {
     "name": "stdout",
     "output_type": "stream",
     "text": [
      "4\n"
     ]
    }
   ],
   "source": [
    "a=9               ##Interger division gives rounded nearest integer.\n",
    "b=2\n",
    "c=a//b\n",
    "print(c)"
   ]
  },
  {
   "cell_type": "code",
   "execution_count": null,
   "id": "2c3f6438",
   "metadata": {},
   "outputs": [],
   "source": [
    "ii) '**' is an Exponentiation Operator.This operator raises the left operand to the power of the right operand. '^' is a \n",
    "\n",
    "Bitwise XOR Operator. This operator performs a bitwise exclusive OR (XOR) operation between the binary representations of two\n",
    "\n",
    "integers."
   ]
  },
  {
   "cell_type": "code",
   "execution_count": 24,
   "id": "7f536f22",
   "metadata": {},
   "outputs": [
    {
     "name": "stdout",
     "output_type": "stream",
     "text": [
      "32768\n"
     ]
    }
   ],
   "source": [
    "a=8             ## 8*8*8*8*8\n",
    "b=5\n",
    "print(a**b)"
   ]
  },
  {
   "cell_type": "code",
   "execution_count": 3,
   "id": "8120ca09",
   "metadata": {},
   "outputs": [
    {
     "name": "stdout",
     "output_type": "stream",
     "text": [
      "6\n"
     ]
    }
   ],
   "source": [
    "a=2\n",
    "b=4\n",
    "print(a^b)"
   ]
  },
  {
   "cell_type": "markdown",
   "id": "05373964",
   "metadata": {},
   "source": [
    "### Q.3. List the logical operators.\n",
    "\n",
    "Answer : Logical operators used on conditional operators(either True or False). Logical operators are AND, OR and NOT.\n",
    "    \n",
    "AND operator is used when, True if both the operands are true. Syntax is x and y.\n",
    "\n",
    "OR operator is used when, True if either of the operands is true. Syntax is x or y.\n",
    "\n",
    "NOT operator is used when, True if operands is false. Syntax is not x."
   ]
  },
  {
   "cell_type": "code",
   "execution_count": 7,
   "id": "8ea5edfa",
   "metadata": {},
   "outputs": [
    {
     "name": "stdout",
     "output_type": "stream",
     "text": [
      "True\n"
     ]
    }
   ],
   "source": [
    "x=7\n",
    "print(x>6 and x<9)"
   ]
  },
  {
   "cell_type": "code",
   "execution_count": 8,
   "id": "a7dc13b0",
   "metadata": {},
   "outputs": [
    {
     "name": "stdout",
     "output_type": "stream",
     "text": [
      "True\n"
     ]
    }
   ],
   "source": [
    "x=7\n",
    "print(x>6 or x<9)"
   ]
  },
  {
   "cell_type": "code",
   "execution_count": 11,
   "id": "44a7cf71",
   "metadata": {},
   "outputs": [
    {
     "name": "stdout",
     "output_type": "stream",
     "text": [
      "True\n"
     ]
    },
    {
     "data": {
      "text/plain": [
       "True"
      ]
     },
     "execution_count": 11,
     "metadata": {},
     "output_type": "execute_result"
    }
   ],
   "source": [
    "x=7\n",
    "not(print(x>6 and x<9))"
   ]
  },
  {
   "cell_type": "markdown",
   "id": "8296c26a",
   "metadata": {},
   "source": [
    "### Q.4. Explain right shift operator and left shift operator with examples.\n",
    "\n",
    "Answer : The right shift operator is used for performing bitwise operations in Python. Bitwise operators are used to\n",
    "    \n",
    "perform bitwise calculations on integers. The right shift operator works by shifting the binary representation of the\n",
    "\n",
    "first operand to the right by the number of positions specified by the second operand.\n",
    "\n",
    "The symbol of the right shift operator is >> and syntax is given, \n",
    "\n",
    "number >> n\n",
    "\n",
    "\n",
    "\n",
    "The left shift operator is used in binary encoding to shift the bits of the data to the left by a certain number of\n",
    "\n",
    "positions. The operator shifts the bits of the first operand to the left by the number of positions specified by the\n",
    "\n",
    "second operand. The symbol of the left shift operator is << and syntax is given, \n",
    "\n",
    "result = value << shift\n"
   ]
  },
  {
   "cell_type": "code",
   "execution_count": 7,
   "id": "f06d5391",
   "metadata": {},
   "outputs": [
    {
     "name": "stdout",
     "output_type": "stream",
     "text": [
      "2\n"
     ]
    }
   ],
   "source": [
    "num = 9\n",
    "shifted_num=num >> 2\n",
    "print(shifted_num)\n",
    "# The binary representation of 9 is 1001. When we shift it two positions to the right, we get 0010, which is equivalent to\n",
    "the decimal number 2."
   ]
  },
  {
   "cell_type": "code",
   "execution_count": 4,
   "id": "3a76057e",
   "metadata": {},
   "outputs": [
    {
     "name": "stdout",
     "output_type": "stream",
     "text": [
      "36\n"
     ]
    }
   ],
   "source": [
    "num = 9                    # 9<<2=9*(2^2)\n",
    "shifted_num=num << 2\n",
    "print(shifted_num)"
   ]
  },
  {
   "cell_type": "markdown",
   "id": "1a2401d0",
   "metadata": {},
   "source": [
    "### Q.5. Create a list containing int type data of length 15. Then write a code to check if 10 is present in the list or not.\n",
    "\n",
    "\n",
    "\n",
    "Answer : We can initialize a list of size n using a range() statement."
   ]
  },
  {
   "cell_type": "code",
   "execution_count": 13,
   "id": "c4698332",
   "metadata": {},
   "outputs": [
    {
     "name": "stdout",
     "output_type": "stream",
     "text": [
      "[0, 1, 2, 3, 4, 5, 6, 7, 8, 9, 10, 11, 12, 13, 14]\n"
     ]
    }
   ],
   "source": [
    "a=list(range(15))\n",
    "print(a)"
   ]
  },
  {
   "cell_type": "code",
   "execution_count": 18,
   "id": "a00a4d90",
   "metadata": {},
   "outputs": [
    {
     "name": "stdout",
     "output_type": "stream",
     "text": [
      "10 is present\n"
     ]
    }
   ],
   "source": [
    "a=[0, 1, 2, 3, 4, 5, 6, 7, 8, 9, 10, 11, 12, 13, 14]\n",
    "for i in a:\n",
    "    if(i == 10):\n",
    "        print(\"10 is present\")"
   ]
  }
 ],
 "metadata": {
  "kernelspec": {
   "display_name": "Python 3 (ipykernel)",
   "language": "python",
   "name": "python3"
  },
  "language_info": {
   "codemirror_mode": {
    "name": "ipython",
    "version": 3
   },
   "file_extension": ".py",
   "mimetype": "text/x-python",
   "name": "python",
   "nbconvert_exporter": "python",
   "pygments_lexer": "ipython3",
   "version": "3.9.13"
  }
 },
 "nbformat": 4,
 "nbformat_minor": 5
}
