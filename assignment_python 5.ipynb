{
 "cells": [
  {
   "cell_type": "markdown",
   "id": "77b258d3",
   "metadata": {},
   "source": [
    "### 1. What does an empty dictionary's code look like?\n",
    "\n",
    "Answer : An empty dictionary's code look like sn empty pair of ccurly braces{}."
   ]
  },
  {
   "cell_type": "markdown",
   "id": "b75fe4f3",
   "metadata": {},
   "source": [
    "### 2. What is the value of a dictionary value with the key 'foo' and the value 42?\n",
    "\n",
    "Answer : "
   ]
  },
  {
   "cell_type": "code",
   "execution_count": 3,
   "id": "b69dc3ab",
   "metadata": {},
   "outputs": [
    {
     "name": "stdout",
     "output_type": "stream",
     "text": [
      "42\n"
     ]
    }
   ],
   "source": [
    "dict_1={\"foo\":42}\n",
    "\n",
    "print(dict_1[\"foo\"])"
   ]
  },
  {
   "cell_type": "markdown",
   "id": "edfd9f54",
   "metadata": {},
   "source": [
    "### 3. What is the most significant distinction between a dictionary and a list.\n",
    "\n",
    "Answer : The most significant distinction between a dictionary and a listis dictionary is unordered and mutable. \n",
    "    \n",
    "List is ordered and unmuatble"
   ]
  },
  {
   "cell_type": "markdown",
   "id": "42dc9328",
   "metadata": {},
   "source": [
    "### 4. What happens if you try to access spam['foo'] if spam is {'bar': 100}?\n",
    "\n",
    "Answer : We will get an keyError."
   ]
  },
  {
   "cell_type": "code",
   "execution_count": 10,
   "id": "c909bbc0",
   "metadata": {},
   "outputs": [
    {
     "ename": "KeyError",
     "evalue": "'foo'",
     "output_type": "error",
     "traceback": [
      "\u001b[1;31m---------------------------------------------------------------------------\u001b[0m",
      "\u001b[1;31mKeyError\u001b[0m                                  Traceback (most recent call last)",
      "\u001b[1;32m~\\AppData\\Local\\Temp\\ipykernel_13052\\2977207769.py\u001b[0m in \u001b[0;36m<module>\u001b[1;34m\u001b[0m\n\u001b[0;32m      1\u001b[0m \u001b[0mspam\u001b[0m\u001b[1;33m=\u001b[0m\u001b[1;33m{\u001b[0m\u001b[1;34m'bar'\u001b[0m\u001b[1;33m:\u001b[0m \u001b[1;36m100\u001b[0m\u001b[1;33m}\u001b[0m\u001b[1;33m\u001b[0m\u001b[1;33m\u001b[0m\u001b[0m\n\u001b[1;32m----> 2\u001b[1;33m \u001b[0mspam\u001b[0m\u001b[1;33m[\u001b[0m\u001b[1;34m'foo'\u001b[0m\u001b[1;33m]\u001b[0m\u001b[1;33m\u001b[0m\u001b[1;33m\u001b[0m\u001b[0m\n\u001b[0m",
      "\u001b[1;31mKeyError\u001b[0m: 'foo'"
     ]
    }
   ],
   "source": [
    "spam={'bar': 100}\n",
    "spam['foo']"
   ]
  },
  {
   "cell_type": "markdown",
   "id": "8f2b2a9e",
   "metadata": {},
   "source": [
    "### 5. If a dictionary is stored in spam, what is the difference between the expressions 'cat' in spam and 'cat' in spam.keys()?\n",
    "\n",
    "Answer : There is no difference between the expression. Both expression check weather there is a 'cat' key in the dictionary,\n",
    "    \n",
    "while 'cat' in spam."
   ]
  },
  {
   "cell_type": "markdown",
   "id": "b5dd0e1d",
   "metadata": {},
   "source": [
    "### 6. If a dictionary is stored in spam, what is the difference between the expressions 'cat' in spam and 'cat' in spam.values()?\n",
    "\n",
    "Answer : 'cat' in spam checks for the presence of the key 'cat', while 'cat' in spam.values() checks for the presence of the\n",
    "    \n",
    "value 'cat' among the dictionary's values."
   ]
  },
  {
   "cell_type": "markdown",
   "id": "ae54e2d0",
   "metadata": {},
   "source": [
    "### 7. What is a shortcut for the following code?\n",
    "\n",
    "if 'color' not in spam:\n",
    "spam['color'] = 'black'\n",
    "\n",
    "Answer : spam.setdefault('color', 'black')"
   ]
  },
  {
   "cell_type": "markdown",
   "id": "452f8ae8",
   "metadata": {},
   "source": [
    "### 8. How do you \"pretty print\" dictionary values using which module and function?\n",
    "\n",
    "Answer : We can \"pretty print\" dictionary values using pprint module and its pprint function."
   ]
  }
 ],
 "metadata": {
  "kernelspec": {
   "display_name": "Python 3 (ipykernel)",
   "language": "python",
   "name": "python3"
  },
  "language_info": {
   "codemirror_mode": {
    "name": "ipython",
    "version": 3
   },
   "file_extension": ".py",
   "mimetype": "text/x-python",
   "name": "python",
   "nbconvert_exporter": "python",
   "pygments_lexer": "ipython3",
   "version": "3.9.13"
  }
 },
 "nbformat": 4,
 "nbformat_minor": 5
}
