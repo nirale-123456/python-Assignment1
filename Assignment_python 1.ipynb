{
 "cells": [
  {
   "cell_type": "markdown",
   "id": "8f87e264",
   "metadata": {},
   "source": [
    "### 1. In the below elements which of them are values or an expression? eg:- values can be integer or string and expressions\n",
    "\n",
    "Answer :\n",
    "\n",
    "**            :  Expression\n",
    "\n",
    "'hello'      :  Value\n",
    "\n",
    "-87.8        : Value \n",
    "\n",
    "--            :  Expression\n",
    "\n",
    "/            :  Expression\n",
    "\n",
    "++           :  Expression\n",
    "\n",
    "6            :  Value\n"
   ]
  },
  {
   "cell_type": "markdown",
   "id": "8ba152ea",
   "metadata": {},
   "source": [
    "### 2. What is the difference between string and variable?\n",
    "\n",
    "Answer : In variable, we store the data or information. String is data type, use to fill up the variable. \n",
    "\n",
    "For e.g.  A=\"Good morning\"\n",
    "\n",
    "here A is variable and \"Good morning\"is a String.\n"
   ]
  },
  {
   "cell_type": "markdown",
   "id": "9e7d9c10",
   "metadata": {},
   "source": [
    "### 3. Describe three different data types.\n",
    "\n",
    "Ans:Boolean : Boolean is built in data type which represent two value i.e true and false.\n",
    "        \n",
    "   List    : List is a built-in data type which allows to store a collection of values in a single variable.\n",
    "         \n",
    "   List is enclosed with square brackets and elements are separated with commas. List is mutable.\n",
    "    \n",
    "   Tuple    : Tuple is a built-in daty type which is used to store multiple items in a single variable.\n",
    "        \n",
    "   Tuple is enclosed with round brackets and elements are separated with commas. List is immutable.\n",
    "\n",
    "\n"
   ]
  },
  {
   "cell_type": "markdown",
   "id": "60c68a75",
   "metadata": {},
   "source": [
    "### 4. What is an expression made up of? What do all expressions do?\n",
    "\n",
    "Answer : Expression is made up of operators and variables. All expressions reduced to a single value. For e.g. 5+2=7 \n"
   ]
  },
  {
   "cell_type": "markdown",
   "id": "3f8fdde3",
   "metadata": {},
   "source": [
    "### 5. This assignment statements, like spam = 10. What is the difference between an expression and a statement?\n",
    "\n",
    "Answer : In expression we get single value and in statement we do not get single value.\n"
   ]
  },
  {
   "cell_type": "markdown",
   "id": "afc6eec0",
   "metadata": {},
   "source": [
    "### 6. After running the following code, what does the variable bacon contain?\n",
    "\n",
    "bacon = 22\n",
    "\n",
    "bacon + 1\n",
    "\n",
    "Answer : "
   ]
  },
  {
   "cell_type": "code",
   "execution_count": 1,
   "id": "78ba94bc",
   "metadata": {},
   "outputs": [
    {
     "data": {
      "text/plain": [
       "23"
      ]
     },
     "execution_count": 1,
     "metadata": {},
     "output_type": "execute_result"
    }
   ],
   "source": [
    "bacon = 22\n",
    "bacon + 1"
   ]
  },
  {
   "cell_type": "code",
   "execution_count": 5,
   "id": "39466049",
   "metadata": {},
   "outputs": [
    {
     "name": "stdout",
     "output_type": "stream",
     "text": [
      "23\n"
     ]
    }
   ],
   "source": [
    "bacon = 22\n",
    "bacon=bacon + 1\n",
    "print(bacon)"
   ]
  },
  {
   "cell_type": "markdown",
   "id": "bef099cb",
   "metadata": {},
   "source": [
    "### 7. What should the values of the following two terms be?\n",
    "\n",
    "'spam' + 'spamspam'\n",
    "\n",
    "'spam' * 3\n",
    "\n",
    "Answer :"
   ]
  },
  {
   "cell_type": "code",
   "execution_count": 2,
   "id": "65962596",
   "metadata": {},
   "outputs": [
    {
     "data": {
      "text/plain": [
       "'spamspamspam'"
      ]
     },
     "execution_count": 2,
     "metadata": {},
     "output_type": "execute_result"
    }
   ],
   "source": [
    "'spam' + 'spamspam'\n",
    "'spam' * 3"
   ]
  },
  {
   "cell_type": "markdown",
   "id": "fb3fbdd1",
   "metadata": {},
   "source": [
    "### 8. Why is eggs a valid variable name while 100 is invalid?\n",
    "\n",
    "Answer : Because variable name cannot be start from number."
   ]
  },
  {
   "cell_type": "markdown",
   "id": "7d7be560",
   "metadata": {},
   "source": [
    "### 9. What three functions can be used to get the integer, floating-point number, or string version of a value?\n",
    "\n",
    "Answer : The int(), float() and str() this function isused to get the integer, floating-point number, or string version\n",
    "\n",
    "of a value.  "
   ]
  },
  {
   "cell_type": "markdown",
   "id": "bb0dc326",
   "metadata": {},
   "source": [
    "### 10. Why does this expression cause an error? How can you fix it?\n",
    "\n",
    "'I have eaten ' + 99 + ' burritos.'\n",
    "\n",
    "Answer :\n",
    "\n",
    "    Here 99 is an integer therefore we are getting an error(can only concatenate str (not \"int\") to str) only string \n",
    "    \n",
    "    can be concatenated to other string with the + operator."
   ]
  },
  {
   "cell_type": "code",
   "execution_count": 4,
   "id": "c5f541f9",
   "metadata": {},
   "outputs": [
    {
     "ename": "TypeError",
     "evalue": "can only concatenate str (not \"int\") to str",
     "output_type": "error",
     "traceback": [
      "\u001b[1;31m---------------------------------------------------------------------------\u001b[0m",
      "\u001b[1;31mTypeError\u001b[0m                                 Traceback (most recent call last)",
      "\u001b[1;32m~\\AppData\\Local\\Temp\\ipykernel_10740\\1774935878.py\u001b[0m in \u001b[0;36m<module>\u001b[1;34m\u001b[0m\n\u001b[1;32m----> 1\u001b[1;33m \u001b[1;34m'I have eaten '\u001b[0m \u001b[1;33m+\u001b[0m \u001b[1;36m99\u001b[0m \u001b[1;33m+\u001b[0m \u001b[1;34m' burritos.'\u001b[0m\u001b[1;33m\u001b[0m\u001b[1;33m\u001b[0m\u001b[0m\n\u001b[0m",
      "\u001b[1;31mTypeError\u001b[0m: can only concatenate str (not \"int\") to str"
     ]
    }
   ],
   "source": [
    "'I have eaten ' + 99 + ' burritos.'"
   ]
  },
  {
   "cell_type": "code",
   "execution_count": 4,
   "id": "18356085",
   "metadata": {},
   "outputs": [
    {
     "data": {
      "text/plain": [
       "'I have eaten 99 burritos.'"
      ]
     },
     "execution_count": 4,
     "metadata": {},
     "output_type": "execute_result"
    }
   ],
   "source": [
    "'I have eaten ' +str(99) + ' burritos.'"
   ]
  },
  {
   "cell_type": "code",
   "execution_count": null,
   "id": "f9dc8e1c",
   "metadata": {},
   "outputs": [],
   "source": []
  }
 ],
 "metadata": {
  "kernelspec": {
   "display_name": "Python 3 (ipykernel)",
   "language": "python",
   "name": "python3"
  },
  "language_info": {
   "codemirror_mode": {
    "name": "ipython",
    "version": 3
   },
   "file_extension": ".py",
   "mimetype": "text/x-python",
   "name": "python",
   "nbconvert_exporter": "python",
   "pygments_lexer": "ipython3",
   "version": "3.9.13"
  }
 },
 "nbformat": 4,
 "nbformat_minor": 5
}
