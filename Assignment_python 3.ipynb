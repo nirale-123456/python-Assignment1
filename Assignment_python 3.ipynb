{
 "cells": [
  {
   "cell_type": "markdown",
   "id": "bf0cced8",
   "metadata": {},
   "source": [
    "### 1. Why are functions advantageous to have in your programs?\n",
    "\n",
    "Answer : Functions reduce the need for duplicate code. This makes programs shorter, easier to read, and easier to update. "
   ]
  },
  {
   "cell_type": "markdown",
   "id": "08eb474b",
   "metadata": {},
   "source": [
    "### 2. When does the code in a function run: when it's specified or when it's called?\n",
    "\n",
    "Answer : The code in a function executes when the function is called, not when the function is defined"
   ]
  },
  {
   "cell_type": "markdown",
   "id": "b025e778",
   "metadata": {},
   "source": [
    "### 3. What statement creates a function?\n",
    "\n",
    "Answer : def keyword creates a function, then write the function idetifier (name) followed by parentheses and a colon."
   ]
  },
  {
   "cell_type": "markdown",
   "id": "0da7dd1b",
   "metadata": {},
   "source": [
    "### 4. What is the difference between a function and a function call?\n",
    "\n",
    "Answer : A function is a piece of code which enhanced the reusability and modularity of your program. A function call means\n",
    "    \n",
    "   invoking or calling that function. "
   ]
  },
  {
   "cell_type": "markdown",
   "id": "3e2a5479",
   "metadata": {},
   "source": [
    "### 5. How many global scopes are there in a Python program? How many local scopes?\n",
    "\n",
    "Answer : There is only one global python scope per program execution. Local scopes are created when the function is called. Local scopes can vary according to the number function called."
   ]
  },
  {
   "cell_type": "markdown",
   "id": "74608c6c",
   "metadata": {},
   "source": [
    "### 6. What happens to variables in a local scope when the function call returns?\n",
    "\n",
    "Answer : The variable only exists while the function is being executed. When the execution of the function returns the local\n",
    "    \n",
    "   variables are destroyed."
   ]
  },
  {
   "cell_type": "markdown",
   "id": "2679a3d2",
   "metadata": {},
   "source": [
    "### 7. What is the concept of a return value? Is it possible to have a return value in an expression?\n",
    "\n",
    "Answer :  A return is a value that a function returns to the calling script or function when it completes its task. A return\n",
    "\n",
    "   value can be any one of the four variable types i.e. handle, integer object, or string. It possible to have a \n",
    "\n",
    "   return value in an expression. A python functon will always have a return value."
   ]
  },
  {
   "cell_type": "markdown",
   "id": "4d65d640",
   "metadata": {},
   "source": [
    "### 8. If a function does not have a return statement, what is the return value of a call to that function?\n",
    "\n",
    "Answer : If a function does not have a return statement, control automatically returns to the calling function after the last\n",
    "\n",
    "   statement of the called function is executed.  The return value of the called function is udefined."
   ]
  },
  {
   "cell_type": "markdown",
   "id": "2c5985ad",
   "metadata": {},
   "source": [
    "### 9. How do you make a function variable refer to the global variable?\n",
    "\n",
    "Answer : When create a variable inside a function, that variable is local, and can only be used inside that function. To\n",
    "    \n",
    "   create a global variable inside a function, we can use the global keyword."
   ]
  },
  {
   "cell_type": "markdown",
   "id": "f0b632e1",
   "metadata": {},
   "source": [
    "### 10. What is the data type of None?\n",
    "\n",
    "Answer : The None keyword is used to define a null variable or an object. None keyword is an object and is a data type of the\n",
    "    \n",
    "   class NoneType."
   ]
  },
  {
   "cell_type": "markdown",
   "id": "3da959f3",
   "metadata": {},
   "source": [
    "### 11. What does the sentence import areallyourpetsnamederic do?  \n",
    "\n",
    "Answer : The import sentence imports a module named areallyourpetsnamederic."
   ]
  },
  {
   "cell_type": "markdown",
   "id": "7e35969b",
   "metadata": {},
   "source": [
    "### 12. If you had a bacon() feature in a spam module, what would you call it after importing spam?\n",
    "\n",
    "Answer : This function can be callled with spam.bacon()."
   ]
  },
  {
   "cell_type": "markdown",
   "id": "519b6817",
   "metadata": {},
   "source": [
    "### 13. What can you do to save a programme from crashing if it encounters an error?\n",
    "\n",
    "Annswer : When it encounters an error, the control is pass to the except block, skipping the code in between. We can try \n",
    "\n",
    "   running the program it should throw an error message instead of crashing the program. "
   ]
  },
  {
   "cell_type": "markdown",
   "id": "fd7663bc",
   "metadata": {},
   "source": [
    "### 14. What is the purpose of the try clause? What is the purpose of the except clause?\n",
    "\n",
    "Answer : The purpose of try clause and except clause is that is used to catch and handle exceptions respectively.\n",
    "    \n",
    "    "
   ]
  },
  {
   "cell_type": "code",
   "execution_count": null,
   "id": "d9af022e",
   "metadata": {},
   "outputs": [],
   "source": [
    "try:\n",
    "    a=6\n",
    "    b=3\n",
    "    x=a+b\n",
    "    print(x)\n",
    "except:\n",
    "    printx()"
   ]
  }
 ],
 "metadata": {
  "kernelspec": {
   "display_name": "Python 3 (ipykernel)",
   "language": "python",
   "name": "python3"
  },
  "language_info": {
   "codemirror_mode": {
    "name": "ipython",
    "version": 3
   },
   "file_extension": ".py",
   "mimetype": "text/x-python",
   "name": "python",
   "nbconvert_exporter": "python",
   "pygments_lexer": "ipython3",
   "version": "3.9.13"
  }
 },
 "nbformat": 4,
 "nbformat_minor": 5
}
