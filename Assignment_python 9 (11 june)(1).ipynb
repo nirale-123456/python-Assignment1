{
 "cells": [
  {
   "cell_type": "markdown",
   "id": "121e77b8",
   "metadata": {},
   "source": [
    "### 1. What is a lambda function in Python, and how does it differ from a regular function?\n",
    "\n",
    "Answer : A lambda function is a small anoonumous function. It is the as the normal python function except that it ca be defned\n",
    "\n",
    "without a name Lambda function are used for defining function that can write concise code without wasting multiple lines\n",
    "\n",
    "defining a function.\n",
    "\n",
    "A lambda function is a simple, short, throwaway function which is designed to be created inline in code.\n",
    "\n",
    "A lambda is a kind of function, but not every function is a lambda."
   ]
  },
  {
   "cell_type": "code",
   "execution_count": 1,
   "id": "374d9632",
   "metadata": {},
   "outputs": [
    {
     "name": "stdout",
     "output_type": "stream",
     "text": [
      "192\n"
     ]
    }
   ],
   "source": [
    "Multiplication=lambda a, b, c:a*b*c\n",
    "result=Multiplication(4,6,8)\n",
    "print(result)"
   ]
  },
  {
   "cell_type": "code",
   "execution_count": 3,
   "id": "dcb8da87",
   "metadata": {},
   "outputs": [
    {
     "name": "stdout",
     "output_type": "stream",
     "text": [
      "The multiplication is 192\n"
     ]
    }
   ],
   "source": [
    "def multi_fun(a,b,c):\n",
    "    multi=a*b*c;\n",
    "    return multi;\n",
    "a=4\n",
    "b=6\n",
    "c=8\n",
    "print(\"The multiplication is\", multi_fun(a,b,c))"
   ]
  },
  {
   "cell_type": "markdown",
   "id": "1c99b23d",
   "metadata": {},
   "source": [
    "### 2. Can a lambda function in Python have multiple arguments? If yes, how can you define and use them?\n",
    "\n",
    "Answer : A lambda function is a small anoonumous function. A lambda function can take any numbe of arguments but can only\n",
    "    \n",
    "have one expression.\n",
    "\n",
    "Following are the example of three arguments i.e. (argument1=a, argument2=b, argument3=c ). Here we use add function name\n",
    "\n",
    "and use this three argument as given below\n",
    "\n",
    "function_name= lambda(argument1, argument2, argument3) : argument1 + argument2 + argument3"
   ]
  },
  {
   "cell_type": "code",
   "execution_count": 1,
   "id": "e6972dde",
   "metadata": {},
   "outputs": [
    {
     "name": "stdout",
     "output_type": "stream",
     "text": [
      "18\n"
     ]
    }
   ],
   "source": [
    "add=lambda a, b, c:a+b+c\n",
    "result=add(4,6,8)\n",
    "print(result)"
   ]
  },
  {
   "cell_type": "markdown",
   "id": "6d6df14e",
   "metadata": {},
   "source": [
    "### 3. How are lambda functions typically used in Python? Provide an example use case.\n",
    "\n",
    "Answer : Lambda function is also known as anonymous function. It is powerfull feature in python that allows us to create\n",
    "\n",
    "small, single use function without the need for a full function definition.\n",
    "\n",
    "This function useful for simple operations, making our code more conise and readable. Lambda function are use in various\n",
    "\n",
    "scenerious."
   ]
  },
  {
   "cell_type": "markdown",
   "id": "99f02dda",
   "metadata": {},
   "source": [
    "#### 1) Sorting lists with custom keys : Lambda function can be use as a custom keys"
   ]
  },
  {
   "cell_type": "code",
   "execution_count": 6,
   "id": "73d0bd68",
   "metadata": {
    "scrolled": true
   },
   "outputs": [
    {
     "name": "stdout",
     "output_type": "stream",
     "text": [
      "[('Physics', '60'), ('Math', '75'), ('English', '80')]\n"
     ]
    }
   ],
   "source": [
    "Fruits_colors=[(\"Math\",\"75\"),(\"Physics\",\"60\"),(\"English\",\"80\")]\n",
    "sorted_Fruits_colors=sorted(Fruits_colors, key=lambda x: x[1])\n",
    "print(sorted_Fruits_colors)"
   ]
  },
  {
   "cell_type": "markdown",
   "id": "9907d173",
   "metadata": {},
   "source": [
    "#### 2)Filter list with the filter() : The filter function can be used in conjuction with a lambda function to filter a list based on a specific condition."
   ]
  },
  {
   "cell_type": "code",
   "execution_count": 10,
   "id": "d0e7f150",
   "metadata": {},
   "outputs": [
    {
     "name": "stdout",
     "output_type": "stream",
     "text": [
      "[2, 6, 8, 44, 34]\n"
     ]
    }
   ],
   "source": [
    "a=[1,3,2,6,8,9,44,34,3,11]\n",
    "even_a=list(filter(lambda x:x%2==0, a))\n",
    "print(even_a)"
   ]
  },
  {
   "cell_type": "markdown",
   "id": "404fecd5",
   "metadata": {},
   "source": [
    "#### 3)Applying transformation with the map() function : This function is used to apply transformation to each element a list."
   ]
  },
  {
   "cell_type": "code",
   "execution_count": 11,
   "id": "f67369be",
   "metadata": {},
   "outputs": [
    {
     "name": "stdout",
     "output_type": "stream",
     "text": [
      "[1, 27, 216, 729, 512, 216]\n"
     ]
    }
   ],
   "source": [
    "a=[1,3,6,9,8,6]\n",
    "cube=list=list(map(lambda x: x**3, a))\n",
    "print(cube)"
   ]
  },
  {
   "cell_type": "markdown",
   "id": "54ba4c72",
   "metadata": {},
   "source": [
    "### 4. What are the advantages and limitations of lambda functions compared to regular functions in Python?\n",
    "\n",
    "Answer : Advantage\n",
    "\n",
    "Lambda function helps to use function only once and hance, avoids cluttering up the code with function definitions.\n",
    "\n",
    "Lambda function improved readiability and conciseness.\n",
    "\n",
    "Limitation\n",
    "    \n",
    "Lambda function can only contain a single expression and cannot include statements\n",
    "\n",
    "This makes them less suitable for complex operations, and using lambda functions can make the code harder to read and \n",
    "understand in complex code.Due to this to this debugging becomes hard."
   ]
  },
  {
   "cell_type": "markdown",
   "id": "add5a26a",
   "metadata": {},
   "source": [
    "### 5. Are lambda functions in Python able to access variables defined outside of their own scope? Explain with an example.\n",
    "\n",
    "Answer : Yes. Lambda functions in Python able to access variables defined outside of their own scope."
   ]
  },
  {
   "cell_type": "code",
   "execution_count": 2,
   "id": "420f582f",
   "metadata": {},
   "outputs": [
    {
     "name": "stdout",
     "output_type": "stream",
     "text": [
      "2\n"
     ]
    }
   ],
   "source": [
    "x=8\n",
    "y=2\n",
    "\n",
    "sub=lambda a,b: a-b-x-y\n",
    "result=sub(23,11)\n",
    "\n",
    "print(result)"
   ]
  },
  {
   "cell_type": "markdown",
   "id": "0130bfff",
   "metadata": {},
   "source": [
    "### 6. Write a lambda function to calculate the square of a given number."
   ]
  },
  {
   "cell_type": "code",
   "execution_count": 2,
   "id": "c8dd6732",
   "metadata": {},
   "outputs": [
    {
     "data": {
      "text/plain": [
       "25"
      ]
     },
     "execution_count": 2,
     "metadata": {},
     "output_type": "execute_result"
    }
   ],
   "source": [
    "square=lambda a:a**2\n",
    "square(5)"
   ]
  },
  {
   "cell_type": "markdown",
   "id": "245f50b2",
   "metadata": {},
   "source": [
    "### 7. Create a lambda function to find the maximum value in a list of integers.\n"
   ]
  },
  {
   "cell_type": "code",
   "execution_count": 7,
   "id": "8415f806",
   "metadata": {},
   "outputs": [
    {
     "name": "stdout",
     "output_type": "stream",
     "text": [
      "9\n"
     ]
    }
   ],
   "source": [
    "z=lambda a, b:a if a>b else b\n",
    "Maximum=z(8,9)\n",
    "print(Maximum)"
   ]
  },
  {
   "cell_type": "markdown",
   "id": "09b7bdff",
   "metadata": {},
   "source": [
    "### 8. Implement a lambda function to filter out all the even numbers from a list of integers."
   ]
  },
  {
   "cell_type": "code",
   "execution_count": 22,
   "id": "33023302",
   "metadata": {},
   "outputs": [
    {
     "name": "stdout",
     "output_type": "stream",
     "text": [
      "[2, 4, 6, 8]\n"
     ]
    }
   ],
   "source": [
    "a=[1,2,3,4,5,6,7,8,9]\n",
    "even_number=list(filter(lambda x: x%2==0,a))\n",
    "print(even_number)"
   ]
  },
  {
   "cell_type": "markdown",
   "id": "337cb85d",
   "metadata": {},
   "source": [
    "### 9. Write a lambda function to sort a list of strings in ascending order based on the length of each\n",
    "string.\n",
    "\n",
    "Answer : By using the list.sort() function we can order a list of mumbers in ascending or descending ordr and we use \n",
    "    \n",
    "key=lambda to specify the sort function as python lambda."
   ]
  },
  {
   "cell_type": "code",
   "execution_count": 16,
   "id": "e4b4a291",
   "metadata": {},
   "outputs": [
    {
     "name": "stdout",
     "output_type": "stream",
     "text": [
      "sorted: ['a', 'ab', 'abc', 'abcd', 'abcde']\n"
     ]
    }
   ],
   "source": [
    "a=[\"ab\", \"abc\", \"abcd\", \"abcde\", \"a\"]\n",
    "a.sort(key=lambda x:x)\n",
    "print(\"sorted:\", a)"
   ]
  },
  {
   "cell_type": "markdown",
   "id": "d39cbf38",
   "metadata": {},
   "source": [
    "### 10. Create a lambda function that takes two lists as input and returns a new list containing the common elements between the two lists.\n",
    "\n",
    "Answer : "
   ]
  },
  {
   "cell_type": "code",
   "execution_count": 20,
   "id": "61d0a1d4",
   "metadata": {},
   "outputs": [
    {
     "name": "stdout",
     "output_type": "stream",
     "text": [
      "{1, 3, 4, 5}\n"
     ]
    }
   ],
   "source": [
    "def common_element(a,b):\n",
    "    a_set=set(a)\n",
    "    b_set=set(b)\n",
    "    if(a_set & b_set):\n",
    "        print(a_set & b_set)\n",
    "    else:\n",
    "        print(\"No common elements\")\n",
    "a=[1,2,3,4,5,6,7]\n",
    "b=[1,3,8,5,4]\n",
    "common_element(a,b)"
   ]
  },
  {
   "cell_type": "markdown",
   "id": "2a47ffbf",
   "metadata": {},
   "source": [
    "### 11. Write a recursive function to calculate the factorial of a given positive integer."
   ]
  },
  {
   "cell_type": "code",
   "execution_count": 29,
   "id": "31248cf6",
   "metadata": {},
   "outputs": [
    {
     "name": "stdout",
     "output_type": "stream",
     "text": [
      "number :  6\n",
      "factirial :  720\n"
     ]
    }
   ],
   "source": [
    "def factorial(n):\n",
    "    if (n==1 or n==0):\n",
    "        return 1\n",
    "    else:\n",
    "        return(n*factorial(n-1))\n",
    "num=6;\n",
    "print(\"number : \",num)\n",
    "print(\"factirial : \",factorial(num))"
   ]
  },
  {
   "cell_type": "markdown",
   "id": "3d9ac226",
   "metadata": {},
   "source": [
    "### 12. Implement a recursive function to compute the nth Fibonacci number.\n",
    "\n",
    "Answer : "
   ]
  },
  {
   "cell_type": "code",
   "execution_count": 13,
   "id": "921ef9c1",
   "metadata": {},
   "outputs": [
    {
     "name": "stdout",
     "output_type": "stream",
     "text": [
      "34\n"
     ]
    }
   ],
   "source": [
    "def Fibonacci(n):\n",
    "    if n<=0:\n",
    "        print(\"Incorrect input\")\n",
    "    elif n==1:\n",
    "        return 0\n",
    "    elif n==2:\n",
    "        return 1\n",
    "    else:\n",
    "        return Fibonacci(n-1)+Fibonacci(n-2)\n",
    "print(Fibonacci(10))"
   ]
  },
  {
   "cell_type": "markdown",
   "id": "d2043270",
   "metadata": {},
   "source": [
    "### 13. Create a recursive function to find the sum of all the elements in a given list.\n",
    "\n",
    "Answer : A function that calls itself known as recursive function."
   ]
  },
  {
   "cell_type": "code",
   "execution_count": 24,
   "id": "3d872036",
   "metadata": {},
   "outputs": [
    {
     "name": "stdout",
     "output_type": "stream",
     "text": [
      "110\n"
     ]
    }
   ],
   "source": [
    "a=[11,22,33,44]\n",
    "def sumoflist(a,nsum):\n",
    "    if len(a):\n",
    "        return sumoflist(a[1:], nsum+a[0])\n",
    "    else:\n",
    "        return nsum\n",
    "print(sumoflist(a,0))"
   ]
  },
  {
   "cell_type": "markdown",
   "id": "63b4d14d",
   "metadata": {},
   "source": [
    "### 14. Write a recursive function to determine whether a given string is a palindrome."
   ]
  },
  {
   "cell_type": "code",
   "execution_count": 2,
   "id": "6eba170f",
   "metadata": {},
   "outputs": [
    {
     "name": "stdout",
     "output_type": "stream",
     "text": [
      "yes\n"
     ]
    }
   ],
   "source": [
    "def rev(n, temp):\n",
    "    if (n==0):\n",
    "        return temp;\n",
    "    temp=(temp*10) +(n%10);\n",
    "    return rev(n//10, temp);\n",
    "n=898;\n",
    "temp=rev(n, 0);\n",
    "if (temp==n):\n",
    "    print(\"yes\")\n",
    "else:\n",
    "    print(\"No\")"
   ]
  },
  {
   "cell_type": "markdown",
   "id": "b5b81ce8",
   "metadata": {},
   "source": [
    "### 15. Implement a recursive function to find the greatest common divisor (GCD) of two positive integers"
   ]
  },
  {
   "cell_type": "code",
   "execution_count": 31,
   "id": "06ba926b",
   "metadata": {},
   "outputs": [
    {
     "name": "stdout",
     "output_type": "stream",
     "text": [
      "25\n"
     ]
    }
   ],
   "source": [
    "def hcf(a,b):\n",
    "    if (b==0):\n",
    "        return a\n",
    "    else:\n",
    "        return hcf(b, a % b)\n",
    "a=200\n",
    "b=75\n",
    "print(hcf(200,75))"
   ]
  }
 ],
 "metadata": {
  "kernelspec": {
   "display_name": "Python 3 (ipykernel)",
   "language": "python",
   "name": "python3"
  },
  "language_info": {
   "codemirror_mode": {
    "name": "ipython",
    "version": 3
   },
   "file_extension": ".py",
   "mimetype": "text/x-python",
   "name": "python",
   "nbconvert_exporter": "python",
   "pygments_lexer": "ipython3",
   "version": "3.9.13"
  }
 },
 "nbformat": 4,
 "nbformat_minor": 5
}
