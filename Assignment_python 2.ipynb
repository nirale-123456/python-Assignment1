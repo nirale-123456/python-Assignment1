{
 "cells": [
  {
   "cell_type": "markdown",
   "id": "47519a8e",
   "metadata": {},
   "source": [
    "### 1.What are the two values of the Boolean data type? How do you write them?\n",
    "\n",
    "Answer : The two values of the boolean data type are true(1) and false(0). It is used to represent the true value of the given expression."
   ]
  },
  {
   "cell_type": "markdown",
   "id": "f1c87a4b",
   "metadata": {},
   "source": [
    "### 2. What are the three different types of Boolean operators?\n",
    "\n",
    "Answer : AND, OR and NOT"
   ]
  },
  {
   "cell_type": "markdown",
   "id": "3f99d57f",
   "metadata": {},
   "source": [
    "### 3. Make a list of each Boolean operator's truth tables (i.e. every possible combination of Boolean values for the operator and\n",
    "\n",
    "what it evaluate ).\n",
    "\n",
    "Answer :\n",
    "    \n",
    "I.\t    True and False = False              VI.\t   False or False=False\n",
    "\n",
    "II.     False or True= True                VII.\t   False and False= False\n",
    "\n",
    "III.\tFalse and True= False\t          VIII.\t   not True= False\n",
    "\n",
    "IV.\t    True or True = True                 IX.\t   True or False = True\n",
    "\n",
    "V.\t    True and True = True\t             X.\t   not False= True\n",
    "\n",
    "    \n",
    "    "
   ]
  },
  {
   "cell_type": "markdown",
   "id": "100e30c2",
   "metadata": {},
   "source": [
    "### 4. What are the values of the following expressions?\n",
    "\n",
    "(5 > 4) and (3 == 5)                                (True) and (False) = False\n",
    "\n",
    "not (5 > 4)                                         not (True) = False\n",
    "\n",
    "(5 > 4) or (3 == 5)                                 (True) or (False) = True\n",
    "\n",
    "not ((5 > 4) or (3 == 5))                           not ((True) or (False)) = False\n",
    "\n",
    "(True and True) and (True == False)                 (True) and (False) = False\n",
    "\n",
    "(not False) or (not True)                           (True) or (False) = True"
   ]
  },
  {
   "cell_type": "markdown",
   "id": "af2606fb",
   "metadata": {},
   "source": [
    "### 5. What are the six comparison operators?\n",
    "\n",
    "Answer :  \n",
    "    \n",
    "    1)Less than (<)\n",
    "    \n",
    "    2)Greater than (>)\n",
    "    \n",
    "    3)Less than or equal to (<=)\n",
    "    \n",
    "    4)Greater than or equal to (>=)\n",
    "    \n",
    "    5)Equal to (==)\n",
    "    \n",
    "    6)Not equal to (!=)"
   ]
  },
  {
   "cell_type": "markdown",
   "id": "d49c3d3d",
   "metadata": {},
   "source": [
    "### 6. How do you tell the difference between the equal to and assignment operators?Describe a condition and when you would use one.\n",
    "\n",
    "\n",
    "\n",
    "Answer : The assignment operator (=) is used to assign the value, variable and function to another variable. The equality\n",
    "    \n",
    "         operator (==)is used to compare two values. \n",
    "        \n",
    "         Example : a = 4 and 6 == 8"
   ]
  },
  {
   "cell_type": "markdown",
   "id": "43c20b94",
   "metadata": {},
   "source": [
    "### 7. Identify the three blocks in this code:\n",
    "    \n",
    "Answer :    \n",
    "    \n",
    "spam = 0\n",
    "\n",
    "if spam == 10:\n",
    "    \n",
    "print('eggs')                  .......block 1\n",
    "\n",
    "if spam > 5:\n",
    "    \n",
    "print('bacon')                 .......block 2\n",
    "\n",
    "else:\n",
    "    \n",
    "print('ham')                   .......block 3\n",
    "\n",
    "print('spam')\n",
    "\n",
    "print('spam')"
   ]
  },
  {
   "cell_type": "markdown",
   "id": "ea4df54b",
   "metadata": {},
   "source": [
    "### 8. Write code that prints Hello if 1 is stored in spam, prints Howdy if 2 is stored in spam, and prints Greetings! if anything else is stored in spam.\n",
    "\n",
    "Answer : \n",
    "    \n",
    "    "
   ]
  },
  {
   "cell_type": "code",
   "execution_count": 2,
   "id": "5a296569",
   "metadata": {},
   "outputs": [
    {
     "name": "stdout",
     "output_type": "stream",
     "text": [
      "Hello\n"
     ]
    }
   ],
   "source": [
    "spam = 1\n",
    "if spam == 1:\n",
    "    print(\"Hello\")\n",
    "elif spam==2:\n",
    "    print(\"Howdy\")\n",
    "else:\n",
    "    print(\"Greetings\")"
   ]
  },
  {
   "cell_type": "markdown",
   "id": "1c795bc6",
   "metadata": {},
   "source": [
    "### 9.If your programme is stuck in an endless loop, what keys you’ll press?\n",
    "\n",
    "Answer : CTRL+C"
   ]
  },
  {
   "cell_type": "markdown",
   "id": "44273d3f",
   "metadata": {},
   "source": [
    "### 10. How can you tell the difference between break and continue?\n",
    "\n",
    "Answer : Break statement stops the entire process of the loop. Continue statement only stops the current iteration of the\n",
    "    \n",
    "        loop."
   ]
  },
  {
   "cell_type": "code",
   "execution_count": 9,
   "id": "f35031c4",
   "metadata": {},
   "outputs": [
    {
     "name": "stdout",
     "output_type": "stream",
     "text": [
      "2\n",
      "3\n"
     ]
    }
   ],
   "source": [
    "for i in range(2,7):\n",
    "    if i==4:\n",
    "        break\n",
    "    print(i)    #loop is terminated at i==4"
   ]
  },
  {
   "cell_type": "code",
   "execution_count": 12,
   "id": "f3a6b9fb",
   "metadata": {},
   "outputs": [
    {
     "name": "stdout",
     "output_type": "stream",
     "text": [
      "2\n",
      "3\n",
      "5\n",
      "6\n"
     ]
    }
   ],
   "source": [
    "for i in range(2,7):\n",
    "    if i==4:\n",
    "       continue\n",
    "    print(i)     #continue to next iteration"
   ]
  },
  {
   "cell_type": "markdown",
   "id": "ba2dd2eb",
   "metadata": {},
   "source": [
    "### 11. In a for loop, what is the difference between range(10), range(0, 10), and range(0, 10, 1)?\n",
    "\n",
    "Answer :  In a for loop, the three expressions range(10), range(0, 10), and range(0, 10, 1) are slightly different ways of\n",
    "    \n",
    "          specifying the range of values to iterate over."
   ]
  },
  {
   "cell_type": "code",
   "execution_count": 15,
   "id": "137311d8",
   "metadata": {},
   "outputs": [
    {
     "name": "stdout",
     "output_type": "stream",
     "text": [
      "0\n",
      "1\n",
      "2\n",
      "3\n",
      "4\n",
      "5\n",
      "6\n",
      "7\n",
      "8\n",
      "9\n"
     ]
    }
   ],
   "source": [
    "for i in range(10):   \n",
    "    print(i)\n",
    "    \n",
    "#This expression generates a sequence of numbers starting from 0 up to 9 and not including, the specified end value, which\n",
    "is 10.\n"
   ]
  },
  {
   "cell_type": "code",
   "execution_count": 16,
   "id": "10e81823",
   "metadata": {},
   "outputs": [
    {
     "name": "stdout",
     "output_type": "stream",
     "text": [
      "0\n",
      "1\n",
      "2\n",
      "3\n",
      "4\n",
      "5\n",
      "6\n",
      "7\n",
      "8\n",
      "9\n"
     ]
    }
   ],
   "source": [
    "for i in range(0,10):\n",
    "    print(i)\n",
    "\n",
    "#The sequence of numbers generated will start from the specified start value (0) and go up to, but not including, the \n",
    "specified end value (10)"
   ]
  },
  {
   "cell_type": "code",
   "execution_count": 17,
   "id": "4fc49c9d",
   "metadata": {},
   "outputs": [
    {
     "name": "stdout",
     "output_type": "stream",
     "text": [
      "0\n",
      "1\n",
      "2\n",
      "3\n",
      "4\n",
      "5\n",
      "6\n",
      "7\n",
      "8\n",
      "9\n"
     ]
    }
   ],
   "source": [
    "for i in range(0,10,1):\n",
    "    print(i)\n",
    "\n",
    "# The sequence of numbers generated will start from the specified start value (0), increment by the specified step value (1),\n",
    "and stop before reaching the specified end value (10)."
   ]
  },
  {
   "cell_type": "markdown",
   "id": "6ea98415",
   "metadata": {},
   "source": [
    "### 12. Write a short program that prints the numbers 1 to 10 using a for loop. Then write an equivalent program that prints the numbers 1 to 10 using a while loop.\n",
    "\n",
    "\n",
    "\n",
    "Answer :"
   ]
  },
  {
   "cell_type": "code",
   "execution_count": 13,
   "id": "060b2916",
   "metadata": {},
   "outputs": [
    {
     "name": "stdout",
     "output_type": "stream",
     "text": [
      "1\n",
      "2\n",
      "3\n",
      "4\n",
      "5\n",
      "6\n",
      "7\n",
      "8\n",
      "9\n",
      "10\n"
     ]
    }
   ],
   "source": [
    "for i in range(1, 11):   #using for loop\n",
    "    print(i)\n",
    "    "
   ]
  },
  {
   "cell_type": "code",
   "execution_count": 14,
   "id": "8afc3d47",
   "metadata": {},
   "outputs": [
    {
     "name": "stdout",
     "output_type": "stream",
     "text": [
      "1\n",
      "2\n",
      "3\n",
      "4\n",
      "5\n",
      "6\n",
      "7\n",
      "8\n",
      "9\n",
      "10\n"
     ]
    }
   ],
   "source": [
    "i = 1           #using while loop\n",
    "while i <= 10:\n",
    "    print(i)\n",
    "    i += 1"
   ]
  },
  {
   "cell_type": "markdown",
   "id": "d7fdf35d",
   "metadata": {},
   "source": [
    "### 13. If you had a function named bacon() inside a module named spam, how would you call it after importing spam?\n",
    "\n",
    "Answer : This funcion can be called with spam.bacon()"
   ]
  }
 ],
 "metadata": {
  "kernelspec": {
   "display_name": "Python 3 (ipykernel)",
   "language": "python",
   "name": "python3"
  },
  "language_info": {
   "codemirror_mode": {
    "name": "ipython",
    "version": 3
   },
   "file_extension": ".py",
   "mimetype": "text/x-python",
   "name": "python",
   "nbconvert_exporter": "python",
   "pygments_lexer": "ipython3",
   "version": "3.9.13"
  }
 },
 "nbformat": 4,
 "nbformat_minor": 5
}
