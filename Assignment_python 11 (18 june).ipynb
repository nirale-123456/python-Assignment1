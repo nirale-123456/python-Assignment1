{
 "cells": [
  {
   "cell_type": "markdown",
   "id": "3d0a17b4",
   "metadata": {},
   "source": [
    "### 1. What is the role of the 'else' block in a try-except statement? Provide an example scenario where it would be useful.\n",
    "\n",
    "Answer : The else block in a try-except statement is an optional block of code that is executed if no exceptions are\n",
    "    \n",
    "raised in the try block. This means that if no exceptions occur, the code in the else block is executed. The else block \n",
    "\n",
    "lets you execute code when there is no error. If there is no exception then this block will be executed"
   ]
  },
  {
   "cell_type": "code",
   "execution_count": null,
   "id": "54bd7f21",
   "metadata": {},
   "outputs": [],
   "source": [
    "#Syntax\n",
    "try:\n",
    "       # Some Code.... \n",
    "except:\n",
    "       # optional block\n",
    "       # Handling of exception (if required)\n",
    "else:\n",
    "       # execute if no exception"
   ]
  },
  {
   "cell_type": "code",
   "execution_count": 2,
   "id": "99caf8d9",
   "metadata": {},
   "outputs": [
    {
     "name": "stdout",
     "output_type": "stream",
     "text": [
      "Hello\n",
      "Nothing went wrong\n"
     ]
    }
   ],
   "source": [
    "try:\n",
    "  print(\"Hello\")\n",
    "except:\n",
    "  print(\"Something went wrong\")\n",
    "else:\n",
    "  print(\"Nothing went wrong\")\n"
   ]
  },
  {
   "cell_type": "markdown",
   "id": "94207677",
   "metadata": {},
   "source": [
    "### 2. Can a try-except block be nested inside another try-except block? Explain with an example.\n",
    "\n",
    "Answer : Yes. Try-except block can be nested inside another try-except block. If an exception is raised in the nested try \n",
    "    \n",
    "block, the nested except block is used to handle it. If the nested except is not able to handle it, the outer except \n",
    "\n",
    "blocks are used to handle the exception."
   ]
  },
  {
   "cell_type": "code",
   "execution_count": 1,
   "id": "06893480",
   "metadata": {},
   "outputs": [
    {
     "name": "stdout",
     "output_type": "stream",
     "text": [
      "outer try block\n",
      "nested try block\n",
      "outer except block\n",
      "division by zero\n"
     ]
    }
   ],
   "source": [
    "x=12\n",
    "y=0\n",
    "try:\n",
    "    print(\"outer try block\")\n",
    "    try:\n",
    "        print(\"nested try block\") \n",
    "        print(x/y)\n",
    "    except TypeError as e:\n",
    "        print(\"nested except block\")\n",
    "        print(e)\n",
    "except ZeroDivisionError as e:\n",
    "    print(\"outer except block\")\n",
    "    print(e)\n"
   ]
  },
  {
   "cell_type": "markdown",
   "id": "724152d8",
   "metadata": {},
   "source": [
    "### 3. How can you create a custom exception class in Python? Provide an example that demonstrates its usage.\n",
    "\n",
    "Answer : In python, a custom exception create by using new class that is derived from the built-in Exception class. The \n",
    "    \n",
    "syntax is given by,\n",
    "\n",
    "class CustomError(Exception):\n",
    "    ...\n",
    "    pass\n",
    "\n",
    "try:\n",
    "   ...\n",
    "\n",
    "except CustomError:\n",
    "    ..."
   ]
  },
  {
   "cell_type": "code",
   "execution_count": 4,
   "id": "0a247832",
   "metadata": {},
   "outputs": [
    {
     "name": "stdout",
     "output_type": "stream",
     "text": [
      "Enter a number: 9\n",
      "Exception occurred: Invalid Age\n"
     ]
    }
   ],
   "source": [
    "class InvalidAgeException(Exception):\n",
    "    \"Raised when the input value is less than 18\"\n",
    "    pass\n",
    "number = 18\n",
    "try:\n",
    "    input_num = int(input(\"Enter a number: \"))\n",
    "    if input_num < number:\n",
    "        raise InvalidAgeException\n",
    "    else:\n",
    "        print(\"Eligible to Vote\")\n",
    "        \n",
    "except InvalidAgeException:\n",
    "    print(\"Exception occurred: Invalid Age\")\n",
    "\n"
   ]
  },
  {
   "cell_type": "markdown",
   "id": "b3f55ae5",
   "metadata": {},
   "source": [
    "### 4. What are some common exceptions that are built-in to Python?\n",
    "\n",
    "Answer : \n",
    "\n",
    "ArithmeticError :  Raised when an error occurs an numeric calculation.\n",
    "\n",
    "EOFError : Raised when the input() method hits an \"end of file\" condition.\n",
    "\n",
    "FloatingPointerror : Raised when a floating oint calculation fails.\n",
    "\n",
    "IndentationError : Raised when indentation is not corret.\n",
    "\n",
    "KeyError : Raised when a key does not exist in a dictonary.\n",
    "\n",
    "NameError : Raised when a variable does not exist.\n",
    "\n",
    "SyntaxError : Raised when a syntax error occurs.\n",
    "\n",
    "TabError : Raised when indentation consists of tabs or spaces.\n"
   ]
  },
  {
   "cell_type": "markdown",
   "id": "8a2088a8",
   "metadata": {},
   "source": [
    "### 5. What is logging in Python, and why is it important in software development?\n",
    "\n",
    "Answer : Logging is a way to store information about script and track events that occur. Logging is a means of tracking \n",
    "    \n",
    "events that happen when some software runs.  \n",
    "    \n",
    "Logging is inportant in software development, debugging and running. It can help to develop a better understanding of the\n",
    "\n",
    "flow of a program and discover scenarios that  might not even have thought of while developing. Without logging, finding \n",
    "\n",
    "the source of a program in code may be extremely time consuming.\n",
    "\n",
    "Logging provides a set of convinience functions for simple logging usage. These are debug(), error(), info(), warning()."
   ]
  },
  {
   "cell_type": "markdown",
   "id": "c265cb09",
   "metadata": {},
   "source": [
    "### 6. Explain the purpose of log levels in Python logging and provide examples of when each log level would be appropriate.\n",
    "\n",
    "Answer : A log level is a piece of information telling how important a given log message is. It is a simple, yet very\n",
    "powerful way of distinguishing log events from each other. \n",
    "    \n",
    "The log level are debug(), warning(), info(), error() and critical(). \n",
    "\n",
    "Debug : is used for information that may be needed for diagnosing issues and troubleshooting or when running application \n",
    "in the test environment for the purpose of making sure everything is running correctly.\n",
    "\n",
    "Warning : It indicates that something unexpected happened in the application, a problem, or a situation that might disturb\n",
    "one of the processes. But that doesn’t mean that the application failed. The WARN level should be used in situations that\n",
    "are unexpected, but the code can continue the work. For example, a parsing error occurred that resulted in a certain \n",
    "document not being processed.\n",
    "\n",
    "Info : is used when an indication that something unexpected happened, or indicative of some problem in the near future.\n",
    "The information logged using the INFO log level should be purely informative and not looking into them on a regular basis\n",
    "shouldn’t result in missing any important information.\n",
    "\n",
    "Error : It is used when due to a more serious problem, the softwar has not been able to perform some function.\n",
    "The log level that should be used when the application hits an issue preventing one or more functionalities from properly\n",
    "functioning. \n",
    "\n",
    "Critical : It is used when a serious error, indicating that the program itself may be unable to continue running."
   ]
  },
  {
   "cell_type": "code",
   "execution_count": null,
   "id": "c0dbfb3b",
   "metadata": {},
   "outputs": [],
   "source": [
    "import logging\n",
    "\n",
    "logging.debug(\"debug message.\")\n",
    "\n",
    "logging.info(\"info message.\")\n",
    "\n",
    "logging.warning(\"Warn message.\")\n",
    "\n",
    "logging.error(\"error message.\")\n",
    "\n",
    "logging.critical(\"critical message.\")"
   ]
  },
  {
   "cell_type": "markdown",
   "id": "80a9b978",
   "metadata": {},
   "source": [
    "### 7. What are log formatters in Python logging, and how can you customise the log message format using formatters?\n",
    "\n",
    "Answer :\n",
    "    \n",
    "Log formatters format log messages so they can be used by various log handlers. Formatters are those which are used to \n",
    "customize the log messages.\n",
    "\n",
    "Steps for creating a custom log message:\n",
    "\n",
    "1)Create a logger\n",
    "We can create a logger by using getLogger() method. after that we have to set the log level using setLevel() method.\n",
    "logger=logging.getLogger(demologger)\n",
    "\n",
    "2)Creating handler\n",
    "Now we have to create a handler object and set the logging level. There are several handlers like streamhandler,\n",
    "filehandler etc. If we use streamhandler then log messages will be printed to the console. If we use filehandler then log\n",
    "message will be printed into file.\n",
    "\n",
    "For stream handler\n",
    "consoleHandler=logging.StreamHandler()\n",
    "consoleHandler.setLevel(logging.INFO)\n",
    "\n",
    "For file Handler\n",
    "fileHandler=logging.FileHamdler('test.log')\n",
    "fileHandler.setLevel(logging.INFO)\n",
    "\n",
    "\n",
    "3)Creating formatter\n",
    "Next step we have to create formatter object.\n",
    "fornatter=logging.Formatter('%(asctime)s - %(name)s -%(levelname)s:\n",
    "%(message)s',datefmt='=%d/%m/%%Y%I:%M:%S%p')\n",
    "                            \n",
    "4)Adding formatter to handler\n",
    "Now we have to add the formatter to Handler using setFormmater() method\n",
    "consoleHandler.selfFormatter(formatter)\n",
    "\n",
    "5)Adding Handler object to the Logger\n",
    "Then the handler object should be added to logger object using addHandler() method\n",
    "logger.addHandler(fileHandler)\n",
    "logger.addHandler(streamHandler)\n",
    "\n",
    "6)Write the log message\n",
    "The last step is writing the log message to the file using the methods and logger object which we created.\n",
    "\n",
    "1.logger.debug(\"debug message\")\n",
    "2.logger.info(\"info message\")\n",
    "3.logger.warn(\"warn message\")\n",
    "4.logger.error(\"error message\")\n",
    "5.logger.critical(\"critical message\")"
   ]
  },
  {
   "cell_type": "markdown",
   "id": "ef20af2b",
   "metadata": {},
   "source": [
    "### 8. How can you set up logging to capture log messages from multiple modules or classes in a Python application?\n",
    "\n",
    "Answer : First we have to import logging module in each module or class.\n",
    "    \n",
    "To create a logger object with a name for each module or class we use  logging.getLogger().\n",
    "\n",
    "Then use logging.basicConfig() to configure the filename, level, and format of the log messages in the main module or \n",
    "\n",
    "class.\n",
    "\n",
    "Use logger.info(), logger.debug(), logger.error(), etc. to write log messages with different levels of severity.\n",
    "\n",
    "Then create a Central Logger"
   ]
  },
  {
   "cell_type": "code",
   "execution_count": 1,
   "id": "b32abcd7",
   "metadata": {},
   "outputs": [],
   "source": [
    "import logging\n",
    "logger = logging.getLogger('my_app')"
   ]
  },
  {
   "cell_type": "code",
   "execution_count": 2,
   "id": "d7e6540c",
   "metadata": {},
   "outputs": [],
   "source": [
    "import logging\n",
    "logger = logging.getLogger('my_app.module_a')\n",
    "\n",
    "def do_something():\n",
    "    logger.info(\"Doing something...\")"
   ]
  },
  {
   "cell_type": "markdown",
   "id": "9dfa5c68",
   "metadata": {},
   "source": [
    "### 9. What is the difference between the logging and print statements in Python? When should you use logging over print statements in a real-world application?\n",
    "\n",
    "Answer : Logging and print can be used for didplaying information, but the serve different purpose.\n",
    "\n",
    "Logging is display useful message and warnings to users while print is a built-in function in python thatprints the \n",
    "\n",
    "specified value or values to the console.\n",
    "\n",
    "Logging module provides a flexible way to log different messages in various output destinations such as on the console,\n",
    "\n",
    "in files, and on networks. Logging is best practice for production code while print mainly used for debugging and is not\n",
    "\n",
    "recommended for logging informatio in production code. \n",
    "\n",
    "In logging there are fuatures like log levles, filtering, formatting and more while in print there is no good features.\n",
    "\n",
    "Logging provides different log levels such as debug, info, error, warning and critical while print does not have any \n",
    "\n",
    "levels."
   ]
  },
  {
   "cell_type": "code",
   "execution_count": 5,
   "id": "877b21cc",
   "metadata": {},
   "outputs": [
    {
     "name": "stderr",
     "output_type": "stream",
     "text": [
      "INFO:root:Hello\n"
     ]
    }
   ],
   "source": [
    "import logging                               #example of logging\n",
    "logging.basicConfig(level=logging.INFO);\n",
    "logging.info(\"Hello\")"
   ]
  },
  {
   "cell_type": "code",
   "execution_count": 6,
   "id": "4e6618bb",
   "metadata": {},
   "outputs": [
    {
     "name": "stdout",
     "output_type": "stream",
     "text": [
      "Hello\n"
     ]
    }
   ],
   "source": [
    "print(\"Hello\")                               #example of print"
   ]
  },
  {
   "cell_type": "markdown",
   "id": "fc6f1e53",
   "metadata": {},
   "source": [
    "#### When should you use logging over print statements in a real-world application?\n",
    "\n",
    "If we want to display log message according to the level we want then we use logging over print statement. Logging has different level of severity and print statement does give that flexibility.\n",
    "\n",
    "If want to direct the log message to separate files that can be used for post analysis.\n",
    "\n",
    "`"
   ]
  },
  {
   "cell_type": "markdown",
   "id": "02619ded",
   "metadata": {},
   "source": [
    "### 10. Write a Python program that logs a message to a file named \"app.log\" with the following requirements:\n",
    "● The log message should be \"Hello, World!\"\n",
    "● The log level should be set to \"INFO.\"\n",
    "● The log file should append new log entries without overwriting previous ones.\n",
    "\n",
    "Answer :"
   ]
  },
  {
   "cell_type": "code",
   "execution_count": 1,
   "id": "f3d31665",
   "metadata": {},
   "outputs": [],
   "source": [
    "import logging \n",
    "\n",
    "logging.basicConfig(filename=\"app.log\", \n",
    "format='%(asctime)s %(message)s', \n",
    "filemode='w') \n",
    "\n",
    "logger=logging.getLogger() \n",
    "\n",
    "logger.setLevel(logging.INFO) \n",
    "\n",
    "logger.info(\"Hello world!\") \n"
   ]
  },
  {
   "cell_type": "markdown",
   "id": "069536a9",
   "metadata": {},
   "source": [
    "### 11. Create a Python program that logs an error message to the console and a file named \"errors.log\" if an exception occurs during the program's execution. The error message should include the exception type and a timestamp"
   ]
  },
  {
   "cell_type": "code",
   "execution_count": 4,
   "id": "0cdf0bf0",
   "metadata": {},
   "outputs": [
    {
     "name": "stderr",
     "output_type": "stream",
     "text": [
      "2023-09-07 20:59:40,728 - __main__ - ERROR - division by zero\n"
     ]
    }
   ],
   "source": [
    "\n",
    "import logging\n",
    "\n",
    "logger = logging.getLogger(__name__)\n",
    "\n",
    "logger.setLevel(logging.ERROR)\n",
    "\n",
    "file_handler = logging.FileHandler(\"errors.log\")\n",
    "\n",
    "console_handler = logging.StreamHandler()\n",
    "\n",
    "formatter = logging.Formatter(\"%(asctime)s - %(name)s - %(levelname)s - %(message)s\")\n",
    "\n",
    "# Set the formatter for both handlers\n",
    "file_handler.setFormatter(formatter)\n",
    "console_handler.setFormatter(formatter)\n",
    "\n",
    "# Add both handlers to the logger\n",
    "logger.addHandler(file_handler)\n",
    "logger.addHandler(console_handler)\n",
    "\n",
    "# Define a function that may raise an exception\n",
    "def divide(x, y):\n",
    "    return x / y\n",
    "\n",
    "# Use a try-except block to handle any exceptions\n",
    "try:\n",
    "    result = divide(10, 0)\n",
    "    # Print the result if no exception occurs\n",
    "    print(result)\n",
    "except Exception as e:\n",
    "    # Log the error message to both the console and the file if an exception occurs\n",
    "    logger.error(e)\n"
   ]
  },
  {
   "cell_type": "code",
   "execution_count": null,
   "id": "43d4a9f3",
   "metadata": {},
   "outputs": [],
   "source": []
  }
 ],
 "metadata": {
  "kernelspec": {
   "display_name": "Python 3 (ipykernel)",
   "language": "python",
   "name": "python3"
  },
  "language_info": {
   "codemirror_mode": {
    "name": "ipython",
    "version": 3
   },
   "file_extension": ".py",
   "mimetype": "text/x-python",
   "name": "python",
   "nbconvert_exporter": "python",
   "pygments_lexer": "ipython3",
   "version": "3.9.13"
  }
 },
 "nbformat": 4,
 "nbformat_minor": 5
}
