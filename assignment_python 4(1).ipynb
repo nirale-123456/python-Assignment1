{
 "cells": [
  {
   "cell_type": "markdown",
   "id": "ab190669",
   "metadata": {},
   "source": [
    "### 1. What exactly is []?\n",
    "\n",
    "Answer : [] is an empty list which does not contain elements."
   ]
  },
  {
   "cell_type": "markdown",
   "id": "db47460e",
   "metadata": {},
   "source": [
    "### 2. In a list of values stored in a variable called spam, how would you assign the value 'hello' as the third value?\n",
    "\n",
    "(Assume [2, 4, 6, 8, 10] are in spam.) Let's pretend the spam includes the list ['a', 'b', 'c', 'd'] for the next three \n",
    "\n",
    "queries.\n",
    "\n",
    "Answer :"
   ]
  },
  {
   "cell_type": "code",
   "execution_count": 10,
   "id": "35a49827",
   "metadata": {},
   "outputs": [
    {
     "name": "stdout",
     "output_type": "stream",
     "text": [
      "[2, 4, 6, 8, 10]\n"
     ]
    }
   ],
   "source": [
    "spam=[2, 4, 6, 8, 10]\n",
    "print(spam)"
   ]
  },
  {
   "cell_type": "code",
   "execution_count": 11,
   "id": "13d28214",
   "metadata": {},
   "outputs": [
    {
     "name": "stdout",
     "output_type": "stream",
     "text": [
      "[2, 4, 'hello', 6, 8, 10]\n"
     ]
    }
   ],
   "source": [
    "spam.insert(2,\"hello\")\n",
    "print(spam)"
   ]
  },
  {
   "cell_type": "code",
   "execution_count": 12,
   "id": "d1d330c2",
   "metadata": {},
   "outputs": [
    {
     "data": {
      "text/plain": [
       "[2, 4, 'hello', 6, 8, 10]"
      ]
     },
     "execution_count": 12,
     "metadata": {},
     "output_type": "execute_result"
    }
   ],
   "source": [
    "spam"
   ]
  },
  {
   "cell_type": "markdown",
   "id": "2c5e9f18",
   "metadata": {},
   "source": [
    "### Let's pretend the spam includes the list ['a', 'b', 'c', 'd'] for the next three queries.\n",
    "\n",
    "3. What is the value of spam[int(int('3' * 2) / 11)]?\n",
    "\n",
    "\n"
   ]
  },
  {
   "cell_type": "code",
   "execution_count": 13,
   "id": "4054b14a",
   "metadata": {},
   "outputs": [
    {
     "data": {
      "text/plain": [
       "'d'"
      ]
     },
     "execution_count": 13,
     "metadata": {},
     "output_type": "execute_result"
    }
   ],
   "source": [
    " spam=['a', 'b', 'c', 'd']\n",
    "\n",
    "spam[int(int('3' * 2) / 11)]   "
   ]
  },
  {
   "cell_type": "markdown",
   "id": "be27ce85",
   "metadata": {},
   "source": [
    "#### 4. What is the value of spam[-1]?"
   ]
  },
  {
   "cell_type": "code",
   "execution_count": 14,
   "id": "3d8e5acc",
   "metadata": {},
   "outputs": [
    {
     "data": {
      "text/plain": [
       "'d'"
      ]
     },
     "execution_count": 14,
     "metadata": {},
     "output_type": "execute_result"
    }
   ],
   "source": [
    "spam[-1]"
   ]
  },
  {
   "cell_type": "markdown",
   "id": "7d6e63ef",
   "metadata": {},
   "source": [
    "#### 5. What is the value of spam[:2]?\n"
   ]
  },
  {
   "cell_type": "code",
   "execution_count": 15,
   "id": "7549e3b6",
   "metadata": {},
   "outputs": [
    {
     "data": {
      "text/plain": [
       "['a', 'b']"
      ]
     },
     "execution_count": 15,
     "metadata": {},
     "output_type": "execute_result"
    }
   ],
   "source": [
    "spam[:2]"
   ]
  },
  {
   "cell_type": "markdown",
   "id": "93b846dd",
   "metadata": {},
   "source": [
    "### Let's pretend bacon has the list [3.14, 'cat,' 11, 'cat,' True] for the next three questions.\n",
    "\n",
    "6. What is the value of bacon.index('cat')?"
   ]
  },
  {
   "cell_type": "code",
   "execution_count": 1,
   "id": "3e01494f",
   "metadata": {},
   "outputs": [
    {
     "data": {
      "text/plain": [
       "1"
      ]
     },
     "execution_count": 1,
     "metadata": {},
     "output_type": "execute_result"
    }
   ],
   "source": [
    "bacon=[3.14, 'cat', 11, 'cat', True]\n",
    "bacon.index('cat')"
   ]
  },
  {
   "cell_type": "markdown",
   "id": "c2f5e283",
   "metadata": {},
   "source": [
    "### 7. How does bacon.append(99) change the look of the list value in bacon?"
   ]
  },
  {
   "cell_type": "code",
   "execution_count": 2,
   "id": "7910b328",
   "metadata": {},
   "outputs": [
    {
     "data": {
      "text/plain": [
       "[3.14, 'cat', 11, 'cat', True, 99]"
      ]
     },
     "execution_count": 2,
     "metadata": {},
     "output_type": "execute_result"
    }
   ],
   "source": [
    "bacon.append(99)\n",
    "bacon"
   ]
  },
  {
   "cell_type": "markdown",
   "id": "40c01edc",
   "metadata": {},
   "source": [
    "### 8. How does bacon.remove('cat') change the look of the list in bacon?"
   ]
  },
  {
   "cell_type": "code",
   "execution_count": 3,
   "id": "2ca238db",
   "metadata": {},
   "outputs": [
    {
     "data": {
      "text/plain": [
       "[3.14, 11, 'cat', True, 99]"
      ]
     },
     "execution_count": 3,
     "metadata": {},
     "output_type": "execute_result"
    }
   ],
   "source": [
    "bacon.remove('cat')\n",
    "bacon"
   ]
  },
  {
   "cell_type": "markdown",
   "id": "f8be68c6",
   "metadata": {},
   "source": [
    "### 9. What are the list concatenation and list replication operators?\n",
    " \n",
    " Answer : The list concatenation operator is + and list replication operator is *."
   ]
  },
  {
   "cell_type": "markdown",
   "id": "1c46c79f",
   "metadata": {},
   "source": [
    "### 10. What is difference between the list methods append() and insert()?\n",
    "\n",
    "Answer : The difference between the list methods append() and insert() is that append() adds an item to the end of a list\n",
    "    \n",
    "whereas insert() insert and item in a specified position in the list. "
   ]
  },
  {
   "cell_type": "code",
   "execution_count": 32,
   "id": "c51b6c1f",
   "metadata": {},
   "outputs": [
    {
     "name": "stdout",
     "output_type": "stream",
     "text": [
      "['rose', 'jasmine', 'lotus', 'tulip']\n"
     ]
    }
   ],
   "source": [
    "flowers=['rose', 'jasmine', 'lotus']\n",
    "flowers.append(\"tulip\")\n",
    "print(flowers)\n"
   ]
  },
  {
   "cell_type": "code",
   "execution_count": 35,
   "id": "bcf8b364",
   "metadata": {},
   "outputs": [
    {
     "name": "stdout",
     "output_type": "stream",
     "text": [
      "['rose', 'jasmine', 'tulip', 'lotus']\n"
     ]
    }
   ],
   "source": [
    "flowers=['rose', 'jasmine', 'lotus']\n",
    "flowers.insert(2,\"tulip\")\n",
    "print(flowers)"
   ]
  },
  {
   "cell_type": "markdown",
   "id": "42eecac3",
   "metadata": {},
   "source": [
    "### 11. What are the two methods for removing items from a list?\n",
    "\n",
    "Answer : The two methods for removing items from a list are given by pop() and remove().\n",
    "    \n",
    "Example :"
   ]
  },
  {
   "cell_type": "code",
   "execution_count": 1,
   "id": "3ddcefea",
   "metadata": {},
   "outputs": [
    {
     "name": "stdout",
     "output_type": "stream",
     "text": [
      "['English', 'Math']\n"
     ]
    }
   ],
   "source": [
    "a=[\"English\", \"Physics\", \"Math\"]\n",
    "a.remove(\"Physics\")\n",
    "print(a)"
   ]
  },
  {
   "cell_type": "code",
   "execution_count": 9,
   "id": "e5433f93",
   "metadata": {},
   "outputs": [
    {
     "name": "stdout",
     "output_type": "stream",
     "text": [
      "['English', 'Physics']\n"
     ]
    }
   ],
   "source": [
    "a=[\"English\", \"Physics\", \"Math\"]\n",
    "a.pop(2)\n",
    "print(a)"
   ]
  },
  {
   "cell_type": "markdown",
   "id": "d6ace0ff",
   "metadata": {},
   "source": [
    "### 12. Describe how list values and string values are identical.\n",
    "\n",
    "Answer : Both list and string have length. String's length is the number of charaacters inthe string and list's length is\n",
    "    \n",
    "number of item in the list."
   ]
  },
  {
   "cell_type": "markdown",
   "id": "ff3d3871",
   "metadata": {},
   "source": [
    "### 13. What's the difference between tuples and lists?\n",
    "\n",
    "Answer : Tuples are immutable and lists are mutable. Therefore it is possible to change a list but not a tuple. In tuples the \n",
    "    \n",
    "items are enclosed with paranthesis and in list the elements are enclosed with square brackets."
   ]
  },
  {
   "cell_type": "markdown",
   "id": "b710583b",
   "metadata": {},
   "source": [
    "### 14. How do you type a tuple value that only contains the integer 42?\n",
    "\n",
    "Answer : tuple=(42,)"
   ]
  },
  {
   "cell_type": "markdown",
   "id": "a6d96f68",
   "metadata": {},
   "source": [
    "### 15. How do you get a list value's tuple form? How do you get a tuple value's list form?\n",
    "\n",
    "Answer : We can get a list value's tuple form by using tuple() constructor and tuple value's list form by using list()\n",
    "    \n",
    "constructor."
   ]
  },
  {
   "cell_type": "markdown",
   "id": "6a659056",
   "metadata": {},
   "source": [
    "### 16. Variables that \"contain\" list values are not necessarily lists themselves. Instead, what do they contain?\n",
    "\n",
    "Answer : They contain reference to list values(elements)."
   ]
  },
  {
   "cell_type": "markdown",
   "id": "bbdbdd96",
   "metadata": {},
   "source": [
    "### 17. How do you distinguish between copy.copy() and copy.deepcopy()?\n",
    "\n",
    "Answer : copy() is a method that is used on objects to create copies of them. copy.deepcopy() is a copy of an object that is \n",
    "    \n",
    "completely independent of the original object."
   ]
  }
 ],
 "metadata": {
  "kernelspec": {
   "display_name": "Python 3 (ipykernel)",
   "language": "python",
   "name": "python3"
  },
  "language_info": {
   "codemirror_mode": {
    "name": "ipython",
    "version": 3
   },
   "file_extension": ".py",
   "mimetype": "text/x-python",
   "name": "python",
   "nbconvert_exporter": "python",
   "pygments_lexer": "ipython3",
   "version": "3.9.13"
  }
 },
 "nbformat": 4,
 "nbformat_minor": 5
}
