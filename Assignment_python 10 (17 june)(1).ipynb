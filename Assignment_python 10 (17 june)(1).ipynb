{
 "cells": [
  {
   "cell_type": "markdown",
   "id": "edf06d46",
   "metadata": {},
   "source": [
    "### 1. What is the role of try and exception block?\n",
    "\n",
    "Answer : The try and except block in python is used to catch and handle exception. \n",
    "    \n",
    "Try and except statement is used to handle the errors within our code. The try block is used to check code for\n",
    "    \n",
    "errors i.e. the code inside the try block will execute when there is no error in the program. The code inside the except \n",
    "\n",
    "block will execute whenever the  program encounters some error in the preceding try blockThe try block test a block of\n",
    "\n",
    "code for errors and the except block handle the error."
   ]
  },
  {
   "cell_type": "markdown",
   "id": "fddc2eb1",
   "metadata": {},
   "source": [
    "### 2. What is the syntax for a basic try-except block?"
   ]
  },
  {
   "cell_type": "code",
   "execution_count": null,
   "id": "3704670e",
   "metadata": {},
   "outputs": [],
   "source": [
    "try:\n",
    "    #Run this code\n",
    "except:\n",
    "    #Execute this code when there is an exception"
   ]
  },
  {
   "cell_type": "markdown",
   "id": "852341e0",
   "metadata": {},
   "source": [
    "### 3. What happens if an exception occurs inside a try block and there is no matching except block?\n",
    "\n",
    "Answer : if an exception occurs inside a try block and there is no matching except block then it is passed on to outer\n",
    "    \n",
    "try statements and it will remain unhandle and the program will terminate."
   ]
  },
  {
   "cell_type": "markdown",
   "id": "ebdbe837",
   "metadata": {},
   "source": [
    "### 4. What is the difference between using a bare except block and specifying a specific exception type?\n",
    "\n",
    "Answer : A bare except block catches any exception that occurs within the corresponding try block. It doesn't specify a \n",
    "    \n",
    "particular exception type to catch. While this can be used to catch and handle any exception. it is not generally used \n",
    "\n",
    "because it can hide errors, make debugging difficult.\n",
    "\n",
    "Using a specific exception type in the except block allows you to catch and handle only the specified type of exception."
   ]
  },
  {
   "cell_type": "code",
   "execution_count": 14,
   "id": "689cd49a",
   "metadata": {},
   "outputs": [
    {
     "name": "stdout",
     "output_type": "stream",
     "text": [
      "An error occurred\n"
     ]
    }
   ],
   "source": [
    "try:\n",
    "    x = 9 / 0\n",
    "except:\n",
    "    print(\"An error occurred\")\n"
   ]
  },
  {
   "cell_type": "code",
   "execution_count": 21,
   "id": "7c7c653c",
   "metadata": {},
   "outputs": [
    {
     "name": "stdout",
     "output_type": "stream",
     "text": [
      "not a valid integer\n"
     ]
    }
   ],
   "source": [
    "try:\n",
    "    x = int(\"xcf\")\n",
    "except ValueError:\n",
    "    print(\"not a valid integer\")"
   ]
  },
  {
   "cell_type": "markdown",
   "id": "d27b30d8",
   "metadata": {},
   "source": [
    "### 5. Can you have nested try-except blocks in Python? If yes, then give an example.\n",
    "\n",
    "Answer : We can have nested try-except blocks in python. "
   ]
  },
  {
   "cell_type": "code",
   "execution_count": 13,
   "id": "6024cd43",
   "metadata": {},
   "outputs": [
    {
     "name": "stdout",
     "output_type": "stream",
     "text": [
      "Enter an outer number: 55\n",
      "Enter an inner number: 77\n",
      "Result: 0.7142857142857143\n"
     ]
    }
   ],
   "source": [
    "try:\n",
    "    a = int(input(\"Enter an outer number: \"))\n",
    "    try:\n",
    "        b = int(input(\"Enter an inner number: \"))\n",
    "        \n",
    "        result = a / b\n",
    "        \n",
    "        print(\"Result:\", result)\n",
    "        \n",
    "    except ZeroDivisionError:\n",
    "        print(\"Inner number cannot be zero.\")\n",
    "        \n",
    "except ValueError:\n",
    "    print(\"Please enter a valid number.\")\n"
   ]
  },
  {
   "cell_type": "markdown",
   "id": "9957879b",
   "metadata": {},
   "source": [
    "### 6. Can we use multiple exception blocks, if yes then give an example.\n",
    "\n",
    "Answer : Yes,  we can use multiple exception blocks."
   ]
  },
  {
   "cell_type": "code",
   "execution_count": 12,
   "id": "07f78f02",
   "metadata": {},
   "outputs": [
    {
     "name": "stdout",
     "output_type": "stream",
     "text": [
      "It failed\n"
     ]
    }
   ],
   "source": [
    "try:\n",
    "    f = open(\"missing\")\n",
    "except OSError:\n",
    "        print(\"It failed\")\n",
    "except FileNotFoundError:\n",
    "        print(\"File not found\")"
   ]
  },
  {
   "cell_type": "markdown",
   "id": "cd33bebb",
   "metadata": {},
   "source": [
    "### 7. Write the reason due to which following errors are raised:\n",
    "a. EOFError\n",
    "b. FloatingPointError\n",
    "c. IndexError\n",
    "d. MemoryError\n",
    "e. OverflowError\n",
    "f. TabError\n",
    "g. ValueError\n",
    "\n",
    "Answer :\n",
    "    "
   ]
  },
  {
   "cell_type": "markdown",
   "id": "d8f18e4c",
   "metadata": {},
   "source": [
    "#### a) EOFError is short fpr End-of-line Error. This error occurs when python has reached the end of user input without receiving any input."
   ]
  },
  {
   "cell_type": "code",
   "execution_count": null,
   "id": "e3dfdd5d",
   "metadata": {},
   "outputs": [],
   "source": [
    "try:\n",
    "    n=int(input())\n",
    "print(n * 7)\n",
    "except EOFError as e:\n",
    "    print(e)"
   ]
  },
  {
   "cell_type": "markdown",
   "id": "94dbb72f",
   "metadata": {},
   "source": [
    "#### b)FloatingpointError is occurs when trying to calculate a number that is too small to represent as a floating point number."
   ]
  },
  {
   "cell_type": "code",
   "execution_count": null,
   "id": "b147dbc2",
   "metadata": {},
   "outputs": [],
   "source": [
    "a=1\n",
    "b=1000000\n",
    "print(a/b)"
   ]
  },
  {
   "cell_type": "markdown",
   "id": "8f82c57a",
   "metadata": {},
   "source": [
    "#### c) IndexError is occurs when trying to access an element in a list, tuple or any other sequence using an index that is outside the valid range of indices for that sequences."
   ]
  },
  {
   "cell_type": "code",
   "execution_count": 12,
   "id": "0df2ab2f",
   "metadata": {
    "scrolled": true
   },
   "outputs": [
    {
     "ename": "IndexError",
     "evalue": "list index out of range",
     "output_type": "error",
     "traceback": [
      "\u001b[1;31m---------------------------------------------------------------------------\u001b[0m",
      "\u001b[1;31mIndexError\u001b[0m                                Traceback (most recent call last)",
      "\u001b[1;32m~\\AppData\\Local\\Temp\\ipykernel_12652\\1622035825.py\u001b[0m in \u001b[0;36m<module>\u001b[1;34m\u001b[0m\n\u001b[0;32m      1\u001b[0m \u001b[0ma\u001b[0m\u001b[1;33m=\u001b[0m\u001b[1;33m[\u001b[0m\u001b[1;36m1\u001b[0m\u001b[1;33m,\u001b[0m\u001b[1;36m2\u001b[0m\u001b[1;33m,\u001b[0m\u001b[1;36m3\u001b[0m\u001b[1;33m,\u001b[0m\u001b[1;36m4\u001b[0m\u001b[1;33m,\u001b[0m\u001b[1;36m5\u001b[0m\u001b[1;33m]\u001b[0m\u001b[1;33m\u001b[0m\u001b[1;33m\u001b[0m\u001b[0m\n\u001b[1;32m----> 2\u001b[1;33m \u001b[0mprint\u001b[0m\u001b[1;33m(\u001b[0m\u001b[0ma\u001b[0m\u001b[1;33m[\u001b[0m\u001b[1;36m5\u001b[0m\u001b[1;33m]\u001b[0m\u001b[1;33m)\u001b[0m\u001b[1;33m\u001b[0m\u001b[1;33m\u001b[0m\u001b[0m\n\u001b[0m",
      "\u001b[1;31mIndexError\u001b[0m: list index out of range"
     ]
    }
   ],
   "source": [
    "a=[1,2,3,4,5]\n",
    "print(a[5])"
   ]
  },
  {
   "cell_type": "markdown",
   "id": "31f56188",
   "metadata": {},
   "source": [
    "#### d) MemoryError is occurs when the memory of the RAM  we are using could not support the execution of our code."
   ]
  },
  {
   "cell_type": "markdown",
   "id": "bbe9aa80",
   "metadata": {},
   "source": [
    "####  e)OverflowError is occur when the data type used to store data was not large enough to hold the data. "
   ]
  },
  {
   "cell_type": "code",
   "execution_count": 24,
   "id": "4d7ecc98",
   "metadata": {
    "scrolled": true
   },
   "outputs": [
    {
     "ename": "OverflowError",
     "evalue": "math range error",
     "output_type": "error",
     "traceback": [
      "\u001b[1;31m---------------------------------------------------------------------------\u001b[0m",
      "\u001b[1;31mOverflowError\u001b[0m                             Traceback (most recent call last)",
      "\u001b[1;32m~\\AppData\\Local\\Temp\\ipykernel_12652\\790541606.py\u001b[0m in \u001b[0;36m<module>\u001b[1;34m\u001b[0m\n\u001b[0;32m      1\u001b[0m \u001b[1;32mimport\u001b[0m \u001b[0mmath\u001b[0m\u001b[1;33m\u001b[0m\u001b[1;33m\u001b[0m\u001b[0m\n\u001b[1;32m----> 2\u001b[1;33m \u001b[0mprint\u001b[0m\u001b[1;33m(\u001b[0m\u001b[0mmath\u001b[0m\u001b[1;33m.\u001b[0m\u001b[0mexp\u001b[0m\u001b[1;33m(\u001b[0m\u001b[1;36m1000\u001b[0m\u001b[1;33m)\u001b[0m\u001b[1;33m)\u001b[0m\u001b[1;33m\u001b[0m\u001b[1;33m\u001b[0m\u001b[0m\n\u001b[0m",
      "\u001b[1;31mOverflowError\u001b[0m: math range error"
     ]
    }
   ],
   "source": [
    "import math\n",
    "print(math.exp(1000))"
   ]
  },
  {
   "cell_type": "markdown",
   "id": "afe7174b",
   "metadata": {},
   "source": [
    "#### f) TabError is occurs when we mix tabs and spaces to indent lines in a code block "
   ]
  },
  {
   "cell_type": "code",
   "execution_count": 34,
   "id": "91b78c68",
   "metadata": {},
   "outputs": [
    {
     "ename": "IndentationError",
     "evalue": "expected an indented block (48410070.py, line 2)",
     "output_type": "error",
     "traceback": [
      "\u001b[1;36m  File \u001b[1;32m\"C:\\Users\\dell\\AppData\\Local\\Temp\\ipykernel_12652\\48410070.py\"\u001b[1;36m, line \u001b[1;32m2\u001b[0m\n\u001b[1;33m    print(\"Hello\")\u001b[0m\n\u001b[1;37m    ^\u001b[0m\n\u001b[1;31mIndentationError\u001b[0m\u001b[1;31m:\u001b[0m expected an indented block\n"
     ]
    }
   ],
   "source": [
    "try:\n",
    "print(\"Hello\")\n",
    "\n",
    "except:\n",
    "     print(\"All is well\")"
   ]
  },
  {
   "cell_type": "markdown",
   "id": "329c337a",
   "metadata": {},
   "source": [
    "#### g) ValueError is occur when a user gives an invalid value to a function but is of a valid argument."
   ]
  },
  {
   "cell_type": "code",
   "execution_count": 36,
   "id": "7c657d28",
   "metadata": {},
   "outputs": [
    {
     "ename": "ValueError",
     "evalue": "invalid literal for int() with base 10: 'Valuerror'",
     "output_type": "error",
     "traceback": [
      "\u001b[1;31m---------------------------------------------------------------------------\u001b[0m",
      "\u001b[1;31mValueError\u001b[0m                                Traceback (most recent call last)",
      "\u001b[1;32m~\\AppData\\Local\\Temp\\ipykernel_12652\\1836705650.py\u001b[0m in \u001b[0;36m<module>\u001b[1;34m\u001b[0m\n\u001b[0;32m      1\u001b[0m \u001b[0ma\u001b[0m\u001b[1;33m=\u001b[0m\u001b[1;36m2\u001b[0m\u001b[1;33m\u001b[0m\u001b[1;33m\u001b[0m\u001b[0m\n\u001b[1;32m----> 2\u001b[1;33m \u001b[0mb\u001b[0m\u001b[1;33m=\u001b[0m\u001b[0mint\u001b[0m\u001b[1;33m(\u001b[0m\u001b[1;34m\"Valuerror\"\u001b[0m\u001b[1;33m)\u001b[0m\u001b[1;33m\u001b[0m\u001b[1;33m\u001b[0m\u001b[0m\n\u001b[0m\u001b[0;32m      3\u001b[0m \u001b[0mprint\u001b[0m\u001b[1;33m(\u001b[0m\u001b[0mb\u001b[0m\u001b[1;33m)\u001b[0m\u001b[1;33m\u001b[0m\u001b[1;33m\u001b[0m\u001b[0m\n",
      "\u001b[1;31mValueError\u001b[0m: invalid literal for int() with base 10: 'Valuerror'"
     ]
    }
   ],
   "source": [
    "a=2\n",
    "b=int(\"Valuerror\")\n",
    "print(b)"
   ]
  },
  {
   "cell_type": "markdown",
   "id": "34cb2b34",
   "metadata": {},
   "source": [
    "### 8. Write code for the following given scenario and add try-exception block to it.\n",
    "a. Program to divide two numbers\n",
    "b. Program to convert a string to an integer\n",
    "c. Program to access an element in a list\n",
    "d. Program to handle a specific exception\n",
    "e. Program to handle any exception\n",
    "\n",
    "Answer : "
   ]
  },
  {
   "cell_type": "markdown",
   "id": "443aaffb",
   "metadata": {},
   "source": [
    "### a)"
   ]
  },
  {
   "cell_type": "code",
   "execution_count": 2,
   "id": "1d00afd3",
   "metadata": {},
   "outputs": [
    {
     "name": "stdout",
     "output_type": "stream",
     "text": [
      "1.2857142857142858\n",
      "0.0\n",
      "division by zero\n"
     ]
    }
   ],
   "source": [
    "def divide(a,b):\n",
    "    try:\n",
    "        print(a/b)\n",
    "    except ZeroDivisionError as e:\n",
    "        print(e)\n",
    "divide(9, 7)\n",
    "divide(0, 8)\n",
    "divide(4, 0)  "
   ]
  },
  {
   "cell_type": "markdown",
   "id": "9ea8cc18",
   "metadata": {},
   "source": [
    "### b)"
   ]
  },
  {
   "cell_type": "code",
   "execution_count": 6,
   "id": "99eacb74",
   "metadata": {},
   "outputs": [
    {
     "name": "stdout",
     "output_type": "stream",
     "text": [
      "66\n"
     ]
    }
   ],
   "source": [
    "string=\"66\"\n",
    "try:\n",
    "    an_int=int(string)\n",
    "    print(an_int)\n",
    "except:\n",
    "    print(\"Error\")"
   ]
  },
  {
   "cell_type": "markdown",
   "id": "7237ef14",
   "metadata": {},
   "source": [
    "### c)"
   ]
  },
  {
   "cell_type": "code",
   "execution_count": 8,
   "id": "b9e1fb81",
   "metadata": {},
   "outputs": [
    {
     "ename": "IndentationError",
     "evalue": "unexpected indent (3822602979.py, line 8)",
     "output_type": "error",
     "traceback": [
      "\u001b[1;36m  File \u001b[1;32m\"C:\\Users\\dell\\AppData\\Local\\Temp\\ipykernel_12936\\3822602979.py\"\u001b[1;36m, line \u001b[1;32m8\u001b[0m\n\u001b[1;33m    print(\"Index out of range.\")\u001b[0m\n\u001b[1;37m    ^\u001b[0m\n\u001b[1;31mIndentationError\u001b[0m\u001b[1;31m:\u001b[0m unexpected indent\n"
     ]
    }
   ],
   "source": [
    "try:\n",
    "    my_list = [1, 2, 3, 4, 5, 6]\n",
    "    index = int(input(\"Enter an index: \"))\n",
    "    value = my_list[index]\n",
    "    print(\"Value at index\", index, \":\", value)\n",
    "except IndexError:5\n",
    "    \n",
    "    print(\"Index out of range.\")\n",
    "except ValueError:\n",
    "    print(\"Invalid input. Please enter a valid index.\")"
   ]
  },
  {
   "cell_type": "markdown",
   "id": "7e081c8d",
   "metadata": {},
   "source": [
    "### d)"
   ]
  },
  {
   "cell_type": "code",
   "execution_count": 4,
   "id": "1296f73b",
   "metadata": {},
   "outputs": [
    {
     "name": "stdout",
     "output_type": "stream",
     "text": [
      "Enter the numerator: 44\n",
      "Enter the denominator: 10\n",
      "Result: 4.4\n"
     ]
    }
   ],
   "source": [
    "try:\n",
    "    numerator = int(input(\"Enter the numerator: \"))\n",
    "    denominator = int(input(\"Enter the denominator: \"))\n",
    "    result = numerator / denominator\n",
    "    print(\"Result:\", result)\n",
    "except ZeroDivisionError:\n",
    "    print(\"Cannot divide by zero.\")"
   ]
  },
  {
   "cell_type": "code",
   "execution_count": 5,
   "id": "eb04dd70",
   "metadata": {},
   "outputs": [
    {
     "name": "stdout",
     "output_type": "stream",
     "text": [
      "data type mismatch\n"
     ]
    }
   ],
   "source": [
    "try:\n",
    "    x=\"70\"\n",
    "    y=28\n",
    "    z=x+y\n",
    "    print(z)\n",
    "    \n",
    "except TypeError:\n",
    "    print(\"data type mismatch\")"
   ]
  },
  {
   "cell_type": "markdown",
   "id": "61d44586",
   "metadata": {},
   "source": [
    "### e) The try-catch block is used to handle exception."
   ]
  },
  {
   "cell_type": "code",
   "execution_count": 6,
   "id": "27b4a6e9",
   "metadata": {},
   "outputs": [
    {
     "name": "stdout",
     "output_type": "stream",
     "text": [
      "Enter a number: 43\n",
      "Result: 0.23255813953488372\n"
     ]
    }
   ],
   "source": [
    "try:\n",
    "    x = int(input(\"Enter a number: \"))\n",
    "    result = 10 / x\n",
    "    print(\"Result:\", result)\n",
    "except Exception as e:\n",
    "    print(\"An error occurred:\", e)\n"
   ]
  },
  {
   "cell_type": "code",
   "execution_count": 7,
   "id": "7841fa2b",
   "metadata": {},
   "outputs": [
    {
     "name": "stdout",
     "output_type": "stream",
     "text": [
      "Enter a number: 66\n",
      "Result: 0.3333333333333333\n"
     ]
    }
   ],
   "source": [
    "try:\n",
    "    x = int(input(\"Enter a number: \"))\n",
    "    result = 22 / x\n",
    "    print(\"Result:\", result)\n",
    "except:\n",
    "    print(\"An error occurred:\")\n"
   ]
  }
 ],
 "metadata": {
  "kernelspec": {
   "display_name": "Python 3 (ipykernel)",
   "language": "python",
   "name": "python3"
  },
  "language_info": {
   "codemirror_mode": {
    "name": "ipython",
    "version": 3
   },
   "file_extension": ".py",
   "mimetype": "text/x-python",
   "name": "python",
   "nbconvert_exporter": "python",
   "pygments_lexer": "ipython3",
   "version": "3.9.13"
  }
 },
 "nbformat": 4,
 "nbformat_minor": 5
}
